{
 "cells": [
  {
   "cell_type": "code",
   "execution_count": 13,
   "metadata": {
    "collapsed": true
   },
   "outputs": [],
   "source": [
    "import pandas as pd\n",
    "fn = \"/Users/orenkobo/Downloads/1_sentencestype_classification_res_dict.csv\"\n",
    "df = pd.read_csv(fn)"
   ]
  },
  {
   "cell_type": "code",
   "execution_count": 24,
   "outputs": [
    {
     "name": "stdout",
     "output_type": "stream",
     "text": [
      "************  ('FastICA(max_iter=500, n_components=25, random_state=42, tol=0.3)', 'ExtraTreesClassifier(n_estimators=200, random_state=42)', 'MinMaxScaler()')\n",
      "1 : 0.52, 0.52\n",
      "************  ('FastICA(max_iter=500, n_components=25, random_state=42, tol=0.3)', 'ExtraTreesClassifier(n_estimators=250, random_state=42)', 'MinMaxScaler()')\n",
      "4 : 0.52, 0.52\n",
      "************  ('FastICA(max_iter=500, n_components=25, random_state=42, tol=0.3)', 'ExtraTreesClassifier(n_estimators=300, random_state=42)', 'MinMaxScaler()')\n",
      "7 : 0.53, 0.53\n",
      "************  ('FastICA(max_iter=500, n_components=25, random_state=42, tol=0.3)', 'ExtraTreesClassifier(n_estimators=300, random_state=42)', 'Normalizer()')\n",
      "8 : 0.52, 0.51\n",
      "************  ('FastICA(max_iter=500, n_components=25, random_state=42, tol=0.3)', 'RandomForestClassifier(n_estimators=150, random_state=42)', 'MinMaxScaler()')\n",
      "10 : 0.53, 0.53\n",
      "************  ('FastICA(max_iter=500, n_components=25, random_state=42, tol=0.3)', 'RandomForestClassifier(n_estimators=200, random_state=42)', 'MinMaxScaler()')\n",
      "13 : 0.53, 0.53\n",
      "************  ('FastICA(max_iter=500, n_components=25, random_state=42, tol=0.3)', 'RandomForestClassifier(n_estimators=200, random_state=42)', 'Normalizer()')\n",
      "14 : 0.53, 0.52\n",
      "************  ('FastICA(max_iter=500, n_components=25, random_state=42, tol=0.3)', 'RandomForestClassifier(n_estimators=250, random_state=42)', 'MinMaxScaler()')\n",
      "16 : 0.54, 0.54\n",
      "************  ('FastICA(max_iter=500, n_components=25, random_state=42, tol=0.3)', 'RandomForestClassifier(n_estimators=250, random_state=42)', 'Normalizer()')\n",
      "17 : 0.53, 0.52\n",
      "************  ('FastICA(max_iter=500, n_components=25, random_state=42, tol=0.3)', 'RandomForestClassifier(n_estimators=300, random_state=42)', 'MinMaxScaler()')\n",
      "19 : 0.54, 0.54\n",
      "************  ('FastICA(max_iter=500, n_components=25, random_state=42, tol=0.3)', 'RandomForestClassifier(n_estimators=300, random_state=42)', 'Normalizer()')\n",
      "20 : 0.53, 0.50\n",
      "************  ('FastICA(max_iter=500, n_components=25, random_state=42, tol=0.3)', 'RandomForestClassifier(n_estimators=50, random_state=42)', 'MinMaxScaler()')\n",
      "22 : 0.53, 0.53\n",
      "************  ('FastICA(max_iter=500, n_components=25, random_state=42, tol=0.3)', 'RandomForestClassifier(n_estimators=50, random_state=42)', 'Normalizer()')\n",
      "23 : 0.53, 0.51\n",
      "************  ('FastICA(max_iter=500, n_components=25, random_state=42, tol=0.3)', 'RandomForestClassifier(random_state=42)', 'MinMaxScaler()')\n",
      "25 : 0.54, 0.54\n",
      "************  ('FastICA(max_iter=500, n_components=25, random_state=42, tol=0.3)', 'RandomForestClassifier(random_state=42)', 'Normalizer()')\n",
      "26 : 0.52, 0.52\n",
      "************  ('FastICA(max_iter=500, n_components=30, random_state=42, tol=0.3)', 'ExtraTreesClassifier(n_estimators=200, random_state=42)', 'Normalizer()')\n",
      "29 : 0.50, 0.54\n",
      "************  ('FastICA(max_iter=500, n_components=30, random_state=42, tol=0.3)', 'ExtraTreesClassifier(n_estimators=250, random_state=42)', 'MinMaxScaler()')\n",
      "31 : 0.52, 0.52\n",
      "************  ('FastICA(max_iter=500, n_components=30, random_state=42, tol=0.3)', 'ExtraTreesClassifier(n_estimators=250, random_state=42)', 'Normalizer()')\n",
      "32 : 0.50, 0.53\n",
      "************  ('FastICA(max_iter=500, n_components=30, random_state=42, tol=0.3)', 'ExtraTreesClassifier(n_estimators=300, random_state=42)', 'MinMaxScaler()')\n",
      "34 : 0.52, 0.52\n",
      "************  ('FastICA(max_iter=500, n_components=30, random_state=42, tol=0.3)', 'ExtraTreesClassifier(n_estimators=300, random_state=42)', 'Normalizer()')\n",
      "35 : 0.50, 0.52\n",
      "************  ('FastICA(max_iter=500, n_components=30, random_state=42, tol=0.3)', 'RandomForestClassifier(n_estimators=150, random_state=42)', 'MinMaxScaler()')\n",
      "37 : 0.52, 0.52\n",
      "************  ('FastICA(max_iter=500, n_components=30, random_state=42, tol=0.3)', 'RandomForestClassifier(n_estimators=150, random_state=42)', 'Normalizer()')\n",
      "38 : 0.52, 0.52\n",
      "************  ('FastICA(max_iter=500, n_components=30, random_state=42, tol=0.3)', 'RandomForestClassifier(n_estimators=200, random_state=42)', 'MinMaxScaler()')\n",
      "40 : 0.53, 0.53\n",
      "************  ('FastICA(max_iter=500, n_components=30, random_state=42, tol=0.3)', 'RandomForestClassifier(n_estimators=200, random_state=42)', 'Normalizer()')\n",
      "41 : 0.51, 0.52\n",
      "************  ('FastICA(max_iter=500, n_components=30, random_state=42, tol=0.3)', 'RandomForestClassifier(n_estimators=250, random_state=42)', 'Normalizer()')\n",
      "44 : 0.52, 0.52\n",
      "************  ('FastICA(max_iter=500, n_components=30, random_state=42, tol=0.3)', 'RandomForestClassifier(n_estimators=300, random_state=42)', 'MinMaxScaler()')\n",
      "46 : 0.52, 0.52\n",
      "************  ('FastICA(max_iter=500, n_components=60, random_state=42, tol=0.3)', 'RandomForestClassifier(n_estimators=50, random_state=42)', 'MinMaxScaler()')\n",
      "76 : 0.53, 0.53\n",
      "----------- ('SelectKBest(k=60)', 'ExtraTreesClassifier(n_estimators=200, random_state=42)', 'MinMaxScaler()')\n",
      "190 : 0.29, 0.29\n",
      "----------- ('SelectKBest(k=60)', 'ExtraTreesClassifier(n_estimators=200, random_state=42)', 'StandardScaler()')\n",
      "192 : 0.29, 0.29\n",
      "----------- ('SelectKBest(k=60)', 'ExtraTreesClassifier(n_estimators=250, random_state=42)', 'MinMaxScaler()')\n",
      "193 : 0.28, 0.28\n",
      "----------- ('SelectKBest(k=60)', 'ExtraTreesClassifier(n_estimators=250, random_state=42)', 'StandardScaler()')\n",
      "195 : 0.28, 0.28\n",
      "----------- ('SelectKBest(k=60)', 'ExtraTreesClassifier(n_estimators=300, random_state=42)', 'MinMaxScaler()')\n",
      "196 : 0.28, 0.28\n",
      "----------- ('SelectKBest(k=60)', 'ExtraTreesClassifier(n_estimators=300, random_state=42)', 'StandardScaler()')\n",
      "198 : 0.28, 0.28\n"
     ]
    }
   ],
   "source": [
    "i = 0\n",
    "for conf, conf_df in df.groupby([\"tr\",\"est\",\"scl\"]):\n",
    "    i+=1\n",
    "\n",
    "    # print(f\"{i} : {conf_df.a1.mean():.2f}, {conf_df.a2.mean():.2f}, {conf_df.a3.mean():.2f}, {conf_df.a4.mean():.2f}\")\n",
    "    if conf_df.plausibility_cond_detection_acc1.mean() > 0.53 or conf_df.plausibility_cond_detection_acc2.mean() > 0.52:\n",
    "        print(\"************ \", conf )\n",
    "        print(f\"{i} : {conf_df.plausibility_cond_detection_acc1.mean():.2f}, {conf_df.plausibility_cond_detection_acc2.mean():.2f}\")\n",
    "\n",
    "    if conf_df.Sentence_type_detection_acc1.mean() > 0.28 or conf_df.Sentence_type_detection_acc2.mean() > 0.28:\n",
    "        print(\"-----------\", conf )\n",
    "        print(f\"{i} : {conf_df.Sentence_type_detection_acc1.mean():.2f}, {conf_df.Sentence_type_detection_acc2.mean():.2f}\")\n",
    "\n",
    "    if conf_df.A_VS_all_acc.mean() > 0.76 or conf_df.B_VS_all_acc.mean() > 0.76 or conf_df.C_VS_all_acc.mean() > 0.76 or conf_df.D_VS_all_acc.mean() > 0.76:\n",
    "        print(\"=============\", conf )\n",
    "        print(f\"{i} : {conf_df.A_VS_all_acc.mean():.2f}, {conf_df.B_VS_all_acc.mean():.2f}, {conf_df.C_VS_all_acc.mean():.2f}, {conf_df.D_VS_all_acc.mean():.2f}\")\n",
    "\n"
   ],
   "metadata": {
    "collapsed": false,
    "pycharm": {
     "name": "#%%\n"
    }
   }
  },
  {
   "cell_type": "code",
   "execution_count": 15,
   "outputs": [
    {
     "data": {
      "text/plain": "['tr',\n 'est',\n 'scl',\n 'plausibility_cond_detection_acc1',\n 'plausibility_cond_detection_acc2',\n 'Sentence_type_detection_acc1',\n 'Sentence_type_detection_acc2',\n 'A_VS_all_acc',\n 'B_VS_all_acc',\n 'C_VS_all_acc',\n 'D_VS_all_acc']"
     },
     "execution_count": 15,
     "metadata": {},
     "output_type": "execute_result"
    }
   ],
   "source": [
    "df.columns.tolist()"
   ],
   "metadata": {
    "collapsed": false,
    "pycharm": {
     "name": "#%%\n"
    }
   }
  },
  {
   "cell_type": "code",
   "execution_count": null,
   "outputs": [],
   "source": [],
   "metadata": {
    "collapsed": false,
    "pycharm": {
     "name": "#%%\n"
    }
   }
  }
 ],
 "metadata": {
  "kernelspec": {
   "display_name": "Python 3",
   "language": "python",
   "name": "python3"
  },
  "language_info": {
   "codemirror_mode": {
    "name": "ipython",
    "version": 2
   },
   "file_extension": ".py",
   "mimetype": "text/x-python",
   "name": "python",
   "nbconvert_exporter": "python",
   "pygments_lexer": "ipython2",
   "version": "2.7.6"
  }
 },
 "nbformat": 4,
 "nbformat_minor": 0
}