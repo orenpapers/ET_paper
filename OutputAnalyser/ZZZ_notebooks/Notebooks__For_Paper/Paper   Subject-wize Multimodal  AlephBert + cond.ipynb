{
 "cells": [
  {
   "cell_type": "code",
   "execution_count": 1,
   "outputs": [],
   "source": [
    "import os\n",
    "# os.environ['CUDA_VISIBLE_DEVICES'] = '-1'\n"
   ],
   "metadata": {
    "collapsed": false,
    "pycharm": {
     "name": "#%%\n"
    }
   }
  },
  {
   "cell_type": "code",
   "execution_count": null,
   "outputs": [
    {
     "name": "stdout",
     "output_type": "stream",
     "text": [
      "2022-04-07 21:35:21.079632\n"
     ]
    }
   ],
   "source": [
    "import datetime\n",
    "print(datetime.datetime.now())\n",
    "import tensorflow as tf\n",
    "print(\"Num GPUs Available: \", len(tf.config.list_physical_devices('GPU')))\n",
    "from tensorflow.python.keras import backend as K\n",
    "print(K._get_available_gpus())\n",
    "#https://medium.com/georgian-impact-blog/how-to-incorporate-tabular-data-with-huggingface-transformers-b70ac45fcfb4"
   ],
   "metadata": {
    "collapsed": false,
    "pycharm": {
     "name": "#%%\n",
     "is_executing": true
    }
   }
  },
  {
   "cell_type": "code",
   "execution_count": null,
   "outputs": [],
   "source": [
    "# !pip install multimodal_transformers --user\n",
    "# !pip uninstall -y transformers --user\n",
    "# !pip install transformers==3.1.0 --user\n",
    "# import transformers\n",
    "# transformers.__version__"
   ],
   "metadata": {
    "collapsed": false,
    "pycharm": {
     "name": "#%%\n",
     "is_executing": true
    }
   }
  },
  {
   "cell_type": "code",
   "execution_count": null,
   "outputs": [],
   "source": [
    "import datetime\n",
    "import joblib\n",
    "\n",
    "scale_col = \"x_gaze_location_standard_scaled\"\n",
    "\n",
    "def apply_phq_cutoff(df , neg_phq_cutoff, pos_phq_cutoff):\n",
    "    df[\"phq_binary_label\"] = [0.0 if x <= neg_phq_cutoff else 1.0 if x >= pos_phq_cutoff else \"other\" for x in df.phq_score]\n",
    "    df = df[df.phq_binary_label!= 'other']\n",
    "    return df\n",
    "\n",
    "\n",
    "def get_timecols_df_for_DL(fn =\"/Users/orenkobo/Desktop/PhD_new/repos/HebLingStudy/notebooks/df.csv\",\n",
    "                           scale_col = scale_col,\n",
    "                           word_embedding_dict_fn = \"/Users/orenkobo/Desktop/PhD/HebLingStudy/Output_2021_Aug/word2alephbert_encodingdict.jbl\"):\n",
    "\n",
    "    import string, re\n",
    "    print(f\"{datetime.datetime.now()} Reading csv from {fn}\")\n",
    "    df = pd.read_csv(fn,\n",
    "                     index_col=None,\n",
    "                     converters={#'alephbert_enc': eval,\n",
    "                         scale_col : eval,\n",
    "                         # 'x_gaze_location_minmax_scaled' : eval,\n",
    "                         # 'x_gaze_location_standard_scaled' : eval,\n",
    "                         # 'target_word_x_range' : eval\n",
    "                         # 'phq_label': bool\n",
    "                     })\n",
    "    print(df.shape)\n",
    "\n",
    "    def exclude_char(s):\n",
    "        exclude = set(string.punctuation)\n",
    "        exclude.remove(\"-\")\n",
    "        return ''.join(ch for ch in s if ch not in exclude)\n",
    "\n",
    "    words_embedding_dict = joblib.load(\"word2alephbert_encodingdict.jbl\")\n",
    "    df = df[df.Sentence_type != 'F'].reset_index(drop=True)\n",
    "    df[\"words_order\"] = df[\"words_order\"].apply(lambda x : [exclude_char(w) for w in eval(x)])\n",
    "    df['word_embeddings_order'] = df[\"words_order\"].apply(lambda x : [words_embedding_dict[w] for w in x])\n",
    "\n",
    "    id_cols = [\"phq_score\",\"phq_group\",\"Subject\", \"Sentence_type\",\n",
    "               \"sentence_pupil_diameter_mean\",\"set_num\", \"words_order\",\"word_embeddings_order\"]\n",
    "    # vec_size = 3500\n",
    "    # new_colname = f\"x_gaze_location_{vec_size}\"\n",
    "    cols = [f\"timepoint#{i}\" for i in range(875)]\n",
    "    # df[new_colname] = df[\"x_gaze_location_standard_scaled\"].apply(lambda x : x[:vec_size])\n",
    "    timeseries_df = pd.DataFrame(data = df[scale_col].to_list() , columns = cols)\n",
    "    timeseries_df[id_cols] = df[id_cols]\n",
    "    timeseries_df = timeseries_df.iloc[:,200:]\n",
    "    cols = [x for x in timeseries_df.columns if \"timepoint\" in x]\n",
    "    return timeseries_df, cols"
   ],
   "metadata": {
    "collapsed": false,
    "pycharm": {
     "name": "#%%\n",
     "is_executing": true
    }
   }
  },
  {
   "cell_type": "code",
   "execution_count": null,
   "outputs": [],
   "source": [
    "# from OutputsAnalyser.run_timepoints_utils import get_timecols_df_for_DL, apply_phq_cutoff\n",
    "import pandas as pd\n",
    "d = {}\n",
    "# df_fn = \"/export/home/orenkobo/Aim1/paper_analysis/Artifacts/df_new_full__unsegmented_alldata_new_FINAL.csv\"\n",
    "df_fn = \"df_new_full__unsegmented_alldata_new_FINAL.csv\"\n",
    "et_scale_col = \"x_gaze_location\"\n",
    "override_cutoff = [7,8]\n",
    "df, timepoint_cols = get_timecols_df_for_DL(fn =df_fn, scale_col = et_scale_col)\n",
    "df = apply_phq_cutoff(df,\n",
    "                      neg_phq_cutoff = override_cutoff[0],\n",
    "                      pos_phq_cutoff = override_cutoff[1])\n",
    "\n",
    "\n",
    "cond_df = pd.get_dummies(df['Sentence_type'])\n",
    "cond_cols = cond_df.columns.tolist()\n",
    "df = pd.concat([df, cond_df],axis=1)\n",
    "df = df.reset_index(drop=True)\n",
    "df"
   ],
   "metadata": {
    "collapsed": false,
    "pycharm": {
     "name": "#%%\n",
     "is_executing": true
    }
   }
  },
  {
   "cell_type": "code",
   "execution_count": null,
   "outputs": [],
   "source": [
    "!which python"
   ],
   "metadata": {
    "collapsed": false,
    "pycharm": {
     "name": "#%%\n",
     "is_executing": true
    }
   }
  },
  {
   "cell_type": "code",
   "execution_count": null,
   "outputs": [],
   "source": [
    "import numpy as np\n",
    "from dataclasses import dataclass, field\n",
    "import json\n",
    "import logging\n",
    "import os\n",
    "from typing import Optional\n",
    "\n",
    "import numpy as np\n",
    "import pandas as pd\n",
    "from transformers import (\n",
    "    AutoTokenizer,\n",
    "    AutoConfig,\n",
    "    Trainer,\n",
    "    EvalPrediction,\n",
    "    set_seed\n",
    ")\n",
    "from transformers.training_args import TrainingArguments\n",
    "from transformers import BertTokenizer\n",
    "\n",
    "from multimodal_transformers.data import load_data_from_folder\n",
    "from multimodal_transformers.model import AutoModelWithTabular\n",
    "\n",
    "from multimodal_transformers.model import TabularConfig\n",
    "\n",
    "logging.basicConfig(level=logging.INFO)\n",
    "os.environ['COMET_MODE'] = 'DISABLED'\n"
   ],
   "metadata": {
    "collapsed": false,
    "pycharm": {
     "name": "#%%\n",
     "is_executing": true
    }
   }
  },
  {
   "cell_type": "code",
   "execution_count": null,
   "outputs": [],
   "source": [],
   "metadata": {
    "collapsed": false,
    "pycharm": {
     "name": "#%%\n"
    }
   }
  },
  {
   "cell_type": "code",
   "execution_count": 1,
   "outputs": [
    {
     "ename": "NameError",
     "evalue": "name 'dataclass' is not defined",
     "output_type": "error",
     "traceback": [
      "\u001B[0;31m---------------------------------------------------------------------------\u001B[0m",
      "\u001B[0;31mNameError\u001B[0m                                 Traceback (most recent call last)",
      "\u001B[0;32m<ipython-input-1-174a1b94f040>\u001B[0m in \u001B[0;36m<module>\u001B[0;34m\u001B[0m\n\u001B[0;32m----> 1\u001B[0;31m \u001B[0;34m@\u001B[0m\u001B[0mdataclass\u001B[0m\u001B[0;34m\u001B[0m\u001B[0;34m\u001B[0m\u001B[0m\n\u001B[0m\u001B[1;32m      2\u001B[0m \u001B[0;32mclass\u001B[0m \u001B[0mModelArguments\u001B[0m\u001B[0;34m:\u001B[0m\u001B[0;34m\u001B[0m\u001B[0;34m\u001B[0m\u001B[0m\n\u001B[1;32m      3\u001B[0m     \"\"\"\n\u001B[1;32m      4\u001B[0m     \u001B[0mArguments\u001B[0m \u001B[0mpertaining\u001B[0m \u001B[0mto\u001B[0m \u001B[0mwhich\u001B[0m \u001B[0mmodel\u001B[0m\u001B[0;34m/\u001B[0m\u001B[0mconfig\u001B[0m\u001B[0;34m/\u001B[0m\u001B[0mtokenizer\u001B[0m \u001B[0mwe\u001B[0m \u001B[0mare\u001B[0m \u001B[0mgoing\u001B[0m \u001B[0mto\u001B[0m \u001B[0mfine\u001B[0m\u001B[0;34m-\u001B[0m\u001B[0mtune\u001B[0m \u001B[0;32mfrom\u001B[0m\u001B[0;34m.\u001B[0m\u001B[0;34m\u001B[0m\u001B[0;34m\u001B[0m\u001B[0m\n\u001B[1;32m      5\u001B[0m     \"\"\"\n",
      "\u001B[0;31mNameError\u001B[0m: name 'dataclass' is not defined"
     ]
    }
   ],
   "source": [
    "@dataclass\n",
    "class ModelArguments:\n",
    "    \"\"\"\n",
    "    Arguments pertaining to which model/config/tokenizer we are going to fine-tune from.\n",
    "    \"\"\"\n",
    "\n",
    "    model_name_or_path: str = field(\n",
    "        metadata={\"help\": \"Path to pretrained model or model identifier from huggingface.co/models\"}\n",
    "    )\n",
    "    config_name: Optional[str] = field(\n",
    "        default=None, metadata={\"help\": \"Pretrained config name or path if not the same as model_name\"}\n",
    "    )\n",
    "    tokenizer_name: Optional[str] = field(\n",
    "        default=None, metadata={\"help\": \"Pretrained tokenizer name or path if not the same as model_name\"}\n",
    "    )\n",
    "    cache_dir: Optional[str] = field(\n",
    "        default=None, metadata={\"help\": \"Where do you want to store the pretrained models downloaded from s3\"}\n",
    "    )\n",
    "\n",
    "\n",
    "@dataclass\n",
    "class MultimodalDataTrainingArguments:\n",
    "    \"\"\"\n",
    "    Arguments pertaining to how we combine tabular features\n",
    "    Using `HfArgumentParser` we can turn this class\n",
    "    into argparse arguments to be able to specify them on\n",
    "    the command line.\n",
    "    \"\"\"\n",
    "\n",
    "    data_path: str = field(metadata={\n",
    "        'help': 'the path to the csv file containing the dataset'\n",
    "    })\n",
    "    column_info_path: str = field(\n",
    "        default=None,\n",
    "        metadata={\n",
    "            'help': 'the path to the json file detailing which columns are text, categorical, numerical, and the label'\n",
    "        })\n",
    "\n",
    "    column_info: dict = field(\n",
    "        default=None,\n",
    "        metadata={\n",
    "            'help': 'a dict referencing the text, categorical, numerical, and label columns'\n",
    "                    'its keys are text_cols, num_cols, cat_cols, and label_col'\n",
    "        })\n",
    "\n",
    "    categorical_encode_type: str = field(default='ohe',\n",
    "                                         metadata={\n",
    "                                             'help': 'sklearn encoder to use for categorical data',\n",
    "                                             'choices': ['ohe', 'binary', 'label', 'none']\n",
    "                                         })\n",
    "    numerical_transformer_method: str = field(default='yeo_johnson',\n",
    "                                              metadata={\n",
    "                                                  'help': 'sklearn numerical transformer to preprocess numerical data',\n",
    "                                                  'choices': ['yeo_johnson', 'box_cox', 'quantile_normal', 'none']\n",
    "                                              })\n",
    "    task: str = field(default=\"classification\",\n",
    "                      metadata={\n",
    "                          \"help\": \"The downstream training task\",\n",
    "                          \"choices\": [\"classification\", \"regression\"]\n",
    "                      })\n",
    "\n",
    "    mlp_division: int = field(default=4,\n",
    "                              metadata={\n",
    "                                  'help': 'the ratio of the number of '\n",
    "                                          'hidden dims in a current layer to the next MLP layer'\n",
    "                              })\n",
    "    combine_feat_method: str = field(default='individual_mlps_on_cat_and_numerical_feats_then_concat',\n",
    "                                     metadata={\n",
    "                                         'help': 'method to combine categorical and numerical features, '\n",
    "                                                 'see README for all the method'\n",
    "                                     })\n",
    "    mlp_dropout: float = field(default=0.1,\n",
    "                               metadata={\n",
    "                                   'help': 'dropout ratio used for MLP layers'\n",
    "                               })\n",
    "    numerical_bn: bool = field(default=True,\n",
    "                               metadata={\n",
    "                                   'help': 'whether to use batchnorm on numerical features'\n",
    "                               })\n",
    "    use_simple_classifier: str = field(default=True,\n",
    "                                       metadata={\n",
    "                                           'help': 'whether to use single layer or MLP as final classifier'\n",
    "                                       })\n",
    "    mlp_act: str = field(default='relu',\n",
    "                         metadata={\n",
    "                             'help': 'the activation function to use for finetuning layers',\n",
    "                             'choices': ['relu', 'prelu', 'sigmoid', 'tanh', 'linear']\n",
    "                         })\n",
    "    gating_beta: float = field(default=0.2,\n",
    "                               metadata={\n",
    "                                   'help': \"the beta hyperparameters used for gating tabular data \"\n",
    "                                           \"see https://www.aclweb.org/anthology/2020.acl-main.214.pdf\"\n",
    "                               })\n",
    "\n",
    "    def __post_init__(self):\n",
    "        assert self.column_info != self.column_info_path\n",
    "        if self.column_info is None and self.column_info_path:\n",
    "            with open(self.column_info_path, 'r') as f:\n",
    "                self.column_info = json.load(f)"
   ],
   "metadata": {
    "collapsed": false,
    "pycharm": {
     "name": "#%%\n"
    }
   }
  },
  {
   "cell_type": "code",
   "execution_count": null,
   "outputs": [],
   "source": [
    "cat_feats = ['A','B','C','D']\n",
    "num_feats = ['sentence_pupil_diameter_mean']\n",
    "nlp_feats = ['words_order']\n",
    "\n",
    "text_cols = nlp_feats# ['Title', 'Review Text']\n",
    "cat_cols = cat_feats# ['Clothing ID', 'Division Name', 'Department Name', 'Class Name']\n",
    "numerical_cols = num_feats#['Rating', 'Age', 'Positive Feedback Count']\n",
    "\n",
    "column_info_dict = {\n",
    "    'text_cols': text_cols,\n",
    "    'num_cols': numerical_cols,\n",
    "    'cat_cols': cat_cols,\n",
    "    'label_col': 'phq_binary_label',\n",
    "    'label_list': [0,1]\n",
    "}\n",
    "\n",
    "model_args = ModelArguments(\n",
    "    # model_name_or_path= '/Users/orenkobo/Desktop/PhD/Aim1/LM/alephbert-base' #'bert-base-uncased'\n",
    "    model_name_or_path= \"/export/home/orenkobo/Aim1/paper_analysis/LM/alephbert-base\"\n",
    ")\n",
    "\n",
    "config = AutoConfig.from_pretrained(\n",
    "    model_args.config_name if model_args.config_name else model_args.model_name_or_path,\n",
    "    cache_dir=model_args.cache_dir,\n",
    ")\n",
    "\n",
    "tokenizer = BertTokenizer.from_pretrained(\"/export/home/orenkobo/Aim1/paper_analysis/LM/alephbert-base\")\n",
    "num_labels = 2\n"
   ],
   "metadata": {
    "collapsed": false,
    "pycharm": {
     "name": "#%%\n"
    }
   }
  },
  {
   "cell_type": "code",
   "execution_count": 2,
   "outputs": [
    {
     "ename": "NameError",
     "evalue": "name 'EvalPrediction' is not defined",
     "output_type": "error",
     "traceback": [
      "\u001B[0;31m---------------------------------------------------------------------------\u001B[0m",
      "\u001B[0;31mNameError\u001B[0m                                 Traceback (most recent call last)",
      "\u001B[0;32m<ipython-input-2-2cdcec3edd12>\u001B[0m in \u001B[0;36m<module>\u001B[0;34m\u001B[0m\n\u001B[1;32m      3\u001B[0m \u001B[0;32mfrom\u001B[0m \u001B[0msklearn\u001B[0m\u001B[0;34m.\u001B[0m\u001B[0mmetrics\u001B[0m \u001B[0;32mimport\u001B[0m \u001B[0mauc\u001B[0m\u001B[0;34m,\u001B[0m  \u001B[0mprecision_recall_curve\u001B[0m\u001B[0;34m,\u001B[0m \u001B[0mroc_auc_score\u001B[0m\u001B[0;34m,\u001B[0m \u001B[0maccuracy_score\u001B[0m\u001B[0;34m,\u001B[0m \u001B[0mf1_score\u001B[0m\u001B[0;34m,\u001B[0m \u001B[0mconfusion_matrix\u001B[0m\u001B[0;34m,\u001B[0m \u001B[0mmatthews_corrcoef\u001B[0m\u001B[0;34m\u001B[0m\u001B[0;34m\u001B[0m\u001B[0m\n\u001B[1;32m      4\u001B[0m \u001B[0;34m\u001B[0m\u001B[0m\n\u001B[0;32m----> 5\u001B[0;31m \u001B[0;32mdef\u001B[0m \u001B[0mcalc_classification_metrics\u001B[0m\u001B[0;34m(\u001B[0m\u001B[0mp\u001B[0m\u001B[0;34m:\u001B[0m \u001B[0mEvalPrediction\u001B[0m\u001B[0;34m)\u001B[0m\u001B[0;34m:\u001B[0m\u001B[0;34m\u001B[0m\u001B[0;34m\u001B[0m\u001B[0m\n\u001B[0m\u001B[1;32m      6\u001B[0m     \u001B[0mpred_labels\u001B[0m \u001B[0;34m=\u001B[0m \u001B[0mnp\u001B[0m\u001B[0;34m.\u001B[0m\u001B[0margmax\u001B[0m\u001B[0;34m(\u001B[0m\u001B[0mp\u001B[0m\u001B[0;34m.\u001B[0m\u001B[0mpredictions\u001B[0m\u001B[0;34m,\u001B[0m \u001B[0maxis\u001B[0m\u001B[0;34m=\u001B[0m\u001B[0;36m1\u001B[0m\u001B[0;34m)\u001B[0m\u001B[0;34m\u001B[0m\u001B[0;34m\u001B[0m\u001B[0m\n\u001B[1;32m      7\u001B[0m     \u001B[0mpred_scores\u001B[0m \u001B[0;34m=\u001B[0m \u001B[0msoftmax\u001B[0m\u001B[0;34m(\u001B[0m\u001B[0mp\u001B[0m\u001B[0;34m.\u001B[0m\u001B[0mpredictions\u001B[0m\u001B[0;34m,\u001B[0m \u001B[0maxis\u001B[0m\u001B[0;34m=\u001B[0m\u001B[0;36m1\u001B[0m\u001B[0;34m)\u001B[0m\u001B[0;34m[\u001B[0m\u001B[0;34m:\u001B[0m\u001B[0;34m,\u001B[0m \u001B[0;36m1\u001B[0m\u001B[0;34m]\u001B[0m\u001B[0;34m\u001B[0m\u001B[0;34m\u001B[0m\u001B[0m\n",
      "\u001B[0;31mNameError\u001B[0m: name 'EvalPrediction' is not defined"
     ]
    }
   ],
   "source": [
    "import numpy as np\n",
    "from scipy.special import softmax\n",
    "from sklearn.metrics import auc,  precision_recall_curve, roc_auc_score, accuracy_score, f1_score, confusion_matrix, matthews_corrcoef\n",
    "\n",
    "def calc_classification_metrics(p: EvalPrediction):\n",
    "    pred_labels = np.argmax(p.predictions, axis=1)\n",
    "    pred_scores = softmax(p.predictions, axis=1)[:, 1]\n",
    "    labels = p.label_ids\n",
    "\n",
    "    roc_auc_pred_score = roc_auc_score(labels, pred_scores)\n",
    "    acc_score = accuracy_score(labels, pred_labels)\n",
    "    precisions, recalls, thresholds = precision_recall_curve(labels,\n",
    "                                                             pred_scores)\n",
    "    fscore = (2 * precisions * recalls) / (precisions + recalls)\n",
    "    fscore[np.isnan(fscore)] = 0\n",
    "    ix = np.argmax(fscore)\n",
    "    threshold = thresholds[ix].item()\n",
    "    pr_auc = auc(recalls, precisions)\n",
    "    tn, fp, fn, tp = confusion_matrix(labels, pred_labels, labels=[0, 1]).ravel()\n",
    "    result = {'roc_auc': roc_auc_pred_score,\n",
    "              'threshold': threshold,\n",
    "              'pr_auc': pr_auc,\n",
    "              'recall': recalls[ix].item(),\n",
    "              'accuracy' : acc_score,\n",
    "              'precision': precisions[ix].item(), 'f1': fscore[ix].item(),\n",
    "              'tn': tn.item(), 'tp': tp.item(), 'fp': fp.item(), 'fn': fn.item()\n",
    "              }\n",
    "\n",
    "\n",
    "    return result"
   ],
   "metadata": {
    "collapsed": false,
    "pycharm": {
     "name": "#%%\n"
    }
   }
  },
  {
   "cell_type": "code",
   "execution_count": 3,
   "outputs": [
    {
     "ename": "NameError",
     "evalue": "name 'df' is not defined",
     "output_type": "error",
     "traceback": [
      "\u001B[0;31m---------------------------------------------------------------------------\u001B[0m",
      "\u001B[0;31mNameError\u001B[0m                                 Traceback (most recent call last)",
      "\u001B[0;32m<ipython-input-3-dee494c77a61>\u001B[0m in \u001B[0;36m<module>\u001B[0;34m\u001B[0m\n\u001B[1;32m      1\u001B[0m \u001B[0;32mimport\u001B[0m \u001B[0mnumpy\u001B[0m \u001B[0;32mas\u001B[0m \u001B[0mnp\u001B[0m\u001B[0;34m\u001B[0m\u001B[0;34m\u001B[0m\u001B[0m\n\u001B[1;32m      2\u001B[0m \u001B[0;32mfrom\u001B[0m \u001B[0msklearn\u001B[0m\u001B[0;34m.\u001B[0m\u001B[0mmodel_selection\u001B[0m \u001B[0;32mimport\u001B[0m \u001B[0mLeavePGroupsOut\u001B[0m\u001B[0;34m\u001B[0m\u001B[0;34m\u001B[0m\u001B[0m\n\u001B[0;32m----> 3\u001B[0;31m \u001B[0mgroups1\u001B[0m \u001B[0;34m=\u001B[0m \u001B[0mdf\u001B[0m\u001B[0;34m[\u001B[0m\u001B[0;34m'Subject'\u001B[0m\u001B[0;34m]\u001B[0m\u001B[0;34m\u001B[0m\u001B[0;34m\u001B[0m\u001B[0m\n\u001B[0m\u001B[1;32m      4\u001B[0m \u001B[0mlpgo1\u001B[0m \u001B[0;34m=\u001B[0m \u001B[0mLeavePGroupsOut\u001B[0m\u001B[0;34m(\u001B[0m\u001B[0mn_groups\u001B[0m\u001B[0;34m=\u001B[0m\u001B[0;36m20\u001B[0m\u001B[0;34m)\u001B[0m\u001B[0;34m\u001B[0m\u001B[0;34m\u001B[0m\u001B[0m\n\u001B[1;32m      5\u001B[0m \u001B[0mcombine_method\u001B[0m \u001B[0;34m=\u001B[0m \u001B[0;34m'gating_on_cat_and_num_feats_then_sum'\u001B[0m\u001B[0;34m\u001B[0m\u001B[0;34m\u001B[0m\u001B[0m\n",
      "\u001B[0;31mNameError\u001B[0m: name 'df' is not defined"
     ]
    }
   ],
   "source": [
    "import numpy as np\n",
    "from sklearn.model_selection import LeavePGroupsOut\n",
    "groups1 = df['Subject']\n",
    "lpgo1 = LeavePGroupsOut(n_groups=20)\n",
    "combine_method = 'gating_on_cat_and_num_feats_then_sum'\n",
    "res_dict = {}\n",
    "i = 0\n",
    "num_iters = 3\n",
    "for tmp_index, test_index in lpgo1.split(X = df[timepoint_cols] , y = df['phq_binary_label'], groups = groups1):\n",
    "    if i==num_iters:\n",
    "        break\n",
    "    print(f\"{datetime.datetime.now()} : start iter {i}\")\n",
    "    res_dict[i] = {}\n",
    "    lpgo2 = LeavePGroupsOut(n_groups=20)\n",
    "    test_subjects = list(np.unique(groups1.iloc[test_index]))\n",
    "    for train_index, val_index in lpgo2.split(X = df.iloc[tmp_index][timepoint_cols] , y = df.iloc[tmp_index]['phq_binary_label'],\n",
    "                                              groups = df.iloc[tmp_index]['Subject']):\n",
    "        train_df = df.iloc[train_index]\n",
    "        test_df = df.iloc[test_index]\n",
    "        val_df = df.iloc[val_index]\n",
    "        break\n",
    "    train_df.to_csv(f'train_iter{i}.csv')\n",
    "    val_df.to_csv(f'val_iter{i}.csv')\n",
    "    test_df.to_csv(f'test_iter{i}.csv')\n",
    "    print('Num examples train-val-test')\n",
    "    print(len(train_df), len(val_df), len(test_df))\n",
    "\n",
    "    data_args = MultimodalDataTrainingArguments(\n",
    "        data_path='.',\n",
    "        combine_feat_method=combine_method,\n",
    "        column_info=column_info_dict,\n",
    "        task='classification'\n",
    "    )\n",
    "\n",
    "    training_args = TrainingArguments(\n",
    "        output_dir=f\"./multimodal_logs/model_name_iter{i}\",\n",
    "        logging_dir=f\"./multimodal_logs/runs_iter{i}\",\n",
    "        overwrite_output_dir=True,\n",
    "        do_train=True,\n",
    "        do_eval=True,\n",
    "        per_device_train_batch_size=32,\n",
    "        num_train_epochs=5,\n",
    "        evaluate_during_training=True,\n",
    "        logging_steps=25,\n",
    "        eval_steps=250\n",
    "    )\n",
    "\n",
    "    set_seed(training_args.seed)\n",
    "    # Get Datasets\n",
    "    train_dataset, val_dataset, test_dataset = load_data_from_folder(\n",
    "        data_args.data_path,\n",
    "        data_args.column_info['text_cols'],\n",
    "        tokenizer,\n",
    "        label_col=data_args.column_info['label_col'],\n",
    "        label_list=data_args.column_info['label_list'],\n",
    "        categorical_cols=data_args.column_info['cat_cols'],\n",
    "        numerical_cols=data_args.column_info['num_cols'],\n",
    "        sep_text_token_str=tokenizer.sep_token,\n",
    "    )\n",
    "    tabular_config = TabularConfig(num_labels=num_labels,\n",
    "                                   cat_feat_dim=train_dataset.cat_feats.shape[1],\n",
    "                                   numerical_feat_dim=train_dataset.numerical_feats.shape[1],\n",
    "                                   **vars(data_args))\n",
    "    config.tabular_config = tabular_config\n",
    "    model = AutoModelWithTabular.from_pretrained(\n",
    "        model_args.config_name if model_args.config_name else model_args.model_name_or_path,\n",
    "        config=config,\n",
    "        cache_dir=model_args.cache_dir\n",
    "    )\n",
    "    trainer = Trainer(\n",
    "        model=model,\n",
    "        args=training_args,\n",
    "        train_dataset=train_dataset,\n",
    "        eval_dataset=val_dataset,\n",
    "        compute_metrics=calc_classification_metrics,\n",
    "    )\n",
    "    trainer.train()\n",
    "    eval_result = trainer.evaluate(eval_dataset=val_dataset)\n",
    "    print(f\"{datetime.datetime.now()} : eval of iter {i} is {eval_result}\")\n",
    "    res_dict[i][\"eval_result\"] = eval_result"
   ],
   "metadata": {
    "collapsed": false,
    "pycharm": {
     "name": "#%%\n"
    }
   }
  },
  {
   "cell_type": "code",
   "execution_count": 15,
   "outputs": [],
   "source": [
    "import gc\n",
    "import torch\n",
    "gc.collect()\n",
    "torch.cuda.empty_cache()\n"
   ],
   "metadata": {
    "collapsed": false,
    "pycharm": {
     "name": "#%%\n"
    }
   }
  },
  {
   "cell_type": "code",
   "execution_count": null,
   "outputs": [],
   "source": [],
   "metadata": {
    "collapsed": false,
    "pycharm": {
     "name": "#%%\n"
    }
   }
  },
  {
   "cell_type": "code",
   "execution_count": null,
   "outputs": [],
   "source": [],
   "metadata": {
    "collapsed": false,
    "pycharm": {
     "name": "#%%\n"
    }
   }
  }
 ],
 "metadata": {
  "kernelspec": {
   "display_name": "Python 3",
   "language": "python",
   "name": "python3"
  },
  "language_info": {
   "codemirror_mode": {
    "name": "ipython",
    "version": 2
   },
   "file_extension": ".py",
   "mimetype": "text/x-python",
   "name": "python",
   "nbconvert_exporter": "python",
   "pygments_lexer": "ipython2",
   "version": "2.7.6"
  }
 },
 "nbformat": 4,
 "nbformat_minor": 0
}