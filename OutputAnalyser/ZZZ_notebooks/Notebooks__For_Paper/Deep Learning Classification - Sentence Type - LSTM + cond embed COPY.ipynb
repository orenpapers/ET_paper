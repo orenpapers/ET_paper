{
 "cells": [
  {
   "cell_type": "code",
   "execution_count": 1,
   "outputs": [
    {
     "name": "stderr",
     "output_type": "stream",
     "text": [
      "'pwd' is not recognized as an internal or external command,\n",
      "operable program or batch file.\n"
     ]
    }
   ],
   "source": [
    "!pwd"
   ],
   "metadata": {
    "collapsed": false
   }
  },
  {
   "cell_type": "code",
   "execution_count": 2,
   "outputs": [],
   "source": [
    "import os\n",
    "os.environ['CUDA_VISIBLE_DEVICES'] = '-1'"
   ],
   "metadata": {
    "collapsed": false
   }
  },
  {
   "cell_type": "code",
   "execution_count": 3,
   "outputs": [
    {
     "name": "stdout",
     "output_type": "stream",
     "text": [
      "2022-12-15 12:07:20.941956\n"
     ]
    }
   ],
   "source": [
    "import datetime\n",
    "print(datetime.datetime.now())\n"
   ],
   "metadata": {
    "collapsed": false
   }
  },
  {
   "cell_type": "code",
   "execution_count": 16,
   "outputs": [
    {
     "name": "stdout",
     "output_type": "stream",
     "text": [
      "Requirement already satisfied: protobuf==3.4.0 in /Library/Frameworks/Python.framework/Versions/3.6/lib/python3.6/site-packages (3.4.0)\r\n",
      "Requirement already satisfied: tensorflow==1.5.0 in /Library/Frameworks/Python.framework/Versions/3.6/lib/python3.6/site-packages (1.5.0)\r\n",
      "Requirement already satisfied: joblib in /Library/Frameworks/Python.framework/Versions/3.6/lib/python3.6/site-packages (1.1.1)\r\n",
      "Requirement already satisfied: numpy in /Library/Frameworks/Python.framework/Versions/3.6/lib/python3.6/site-packages (1.19.5)\r\n",
      "Requirement already satisfied: sklearn in /Library/Frameworks/Python.framework/Versions/3.6/lib/python3.6/site-packages (0.0.post1)\r\n",
      "Requirement already satisfied: pandas in /Library/Frameworks/Python.framework/Versions/3.6/lib/python3.6/site-packages (1.1.5)\r\n",
      "Requirement already satisfied: matplotlib in /Library/Frameworks/Python.framework/Versions/3.6/lib/python3.6/site-packages (3.3.4)\r\n",
      "Requirement already satisfied: seaborn in /Library/Frameworks/Python.framework/Versions/3.6/lib/python3.6/site-packages (0.11.2)\r\n",
      "Requirement already satisfied: six>=1.9 in /Library/Frameworks/Python.framework/Versions/3.6/lib/python3.6/site-packages (from protobuf==3.4.0) (1.16.0)\r\n",
      "Requirement already satisfied: setuptools in /Library/Frameworks/Python.framework/Versions/3.6/lib/python3.6/site-packages (from protobuf==3.4.0) (39.0.1)\r\n",
      "Requirement already satisfied: wheel>=0.26 in /Library/Frameworks/Python.framework/Versions/3.6/lib/python3.6/site-packages (from tensorflow==1.5.0) (0.37.1)\r\n",
      "Requirement already satisfied: absl-py>=0.1.6 in /Library/Frameworks/Python.framework/Versions/3.6/lib/python3.6/site-packages (from tensorflow==1.5.0) (1.3.0)\r\n",
      "Requirement already satisfied: tensorflow-tensorboard<1.6.0,>=1.5.0 in /Library/Frameworks/Python.framework/Versions/3.6/lib/python3.6/site-packages (from tensorflow==1.5.0) (1.5.1)\r\n",
      "Requirement already satisfied: pytz>=2017.2 in /Library/Frameworks/Python.framework/Versions/3.6/lib/python3.6/site-packages (from pandas) (2022.6)\r\n",
      "Requirement already satisfied: python-dateutil>=2.7.3 in /Library/Frameworks/Python.framework/Versions/3.6/lib/python3.6/site-packages (from pandas) (2.8.2)\r\n",
      "Requirement already satisfied: pyparsing!=2.0.4,!=2.1.2,!=2.1.6,>=2.0.3 in /Library/Frameworks/Python.framework/Versions/3.6/lib/python3.6/site-packages (from matplotlib) (3.0.7)\r\n",
      "Requirement already satisfied: pillow>=6.2.0 in /Library/Frameworks/Python.framework/Versions/3.6/lib/python3.6/site-packages (from matplotlib) (8.4.0)\r\n",
      "Requirement already satisfied: kiwisolver>=1.0.1 in /Library/Frameworks/Python.framework/Versions/3.6/lib/python3.6/site-packages (from matplotlib) (1.3.1)\r\n",
      "Requirement already satisfied: cycler>=0.10 in /Library/Frameworks/Python.framework/Versions/3.6/lib/python3.6/site-packages (from matplotlib) (0.11.0)\r\n",
      "Requirement already satisfied: scipy>=1.0 in /Library/Frameworks/Python.framework/Versions/3.6/lib/python3.6/site-packages (from seaborn) (1.5.4)\r\n",
      "Requirement already satisfied: html5lib==0.9999999 in /Library/Frameworks/Python.framework/Versions/3.6/lib/python3.6/site-packages (from tensorflow-tensorboard<1.6.0,>=1.5.0->tensorflow==1.5.0) (0.9999999)\r\n",
      "Requirement already satisfied: werkzeug>=0.11.10 in /Library/Frameworks/Python.framework/Versions/3.6/lib/python3.6/site-packages (from tensorflow-tensorboard<1.6.0,>=1.5.0->tensorflow==1.5.0) (2.0.3)\r\n",
      "Requirement already satisfied: bleach==1.5.0 in /Library/Frameworks/Python.framework/Versions/3.6/lib/python3.6/site-packages (from tensorflow-tensorboard<1.6.0,>=1.5.0->tensorflow==1.5.0) (1.5.0)\r\n",
      "Requirement already satisfied: markdown>=2.6.8 in /Library/Frameworks/Python.framework/Versions/3.6/lib/python3.6/site-packages (from tensorflow-tensorboard<1.6.0,>=1.5.0->tensorflow==1.5.0) (3.3.7)\r\n",
      "Requirement already satisfied: importlib-metadata>=4.4 in /Library/Frameworks/Python.framework/Versions/3.6/lib/python3.6/site-packages (from markdown>=2.6.8->tensorflow-tensorboard<1.6.0,>=1.5.0->tensorflow==1.5.0) (4.8.3)\r\n",
      "Requirement already satisfied: dataclasses in /Library/Frameworks/Python.framework/Versions/3.6/lib/python3.6/site-packages (from werkzeug>=0.11.10->tensorflow-tensorboard<1.6.0,>=1.5.0->tensorflow==1.5.0) (0.8)\r\n",
      "Requirement already satisfied: typing-extensions>=3.6.4 in /Library/Frameworks/Python.framework/Versions/3.6/lib/python3.6/site-packages (from importlib-metadata>=4.4->markdown>=2.6.8->tensorflow-tensorboard<1.6.0,>=1.5.0->tensorflow==1.5.0) (4.1.1)\r\n",
      "Requirement already satisfied: zipp>=0.5 in /Library/Frameworks/Python.framework/Versions/3.6/lib/python3.6/site-packages (from importlib-metadata>=4.4->markdown>=2.6.8->tensorflow-tensorboard<1.6.0,>=1.5.0->tensorflow==1.5.0) (3.6.0)\r\n"
     ]
    }
   ],
   "source": [
    "!python3 -m pip install protobuf==3.4.0 tensorflow==1.5.0 joblib numpy sklearn pandas matplotlib seaborn"
   ],
   "metadata": {
    "collapsed": false
   }
  },
  {
   "cell_type": "code",
   "execution_count": 11,
   "outputs": [
    {
     "name": "stdout",
     "output_type": "stream",
     "text": [
      "Requirement already satisfied: joblib in /Library/Frameworks/Python.framework/Versions/3.6/lib/python3.6/site-packages (1.1.1)\r\n",
      "Requirement already satisfied: numpy in /Library/Frameworks/Python.framework/Versions/3.6/lib/python3.6/site-packages (1.19.5)\r\n",
      "Requirement already satisfied: sklearn in /Library/Frameworks/Python.framework/Versions/3.6/lib/python3.6/site-packages (0.0.post1)\r\n",
      "Requirement already satisfied: pandas in /Library/Frameworks/Python.framework/Versions/3.6/lib/python3.6/site-packages (1.1.5)\r\n",
      "Requirement already satisfied: matplotlib in /Library/Frameworks/Python.framework/Versions/3.6/lib/python3.6/site-packages (3.3.4)\r\n",
      "Requirement already satisfied: seaborn in /Library/Frameworks/Python.framework/Versions/3.6/lib/python3.6/site-packages (0.11.2)\r\n",
      "Requirement already satisfied: python-dateutil>=2.7.3 in /Library/Frameworks/Python.framework/Versions/3.6/lib/python3.6/site-packages (from pandas) (2.8.2)\r\n",
      "Requirement already satisfied: pytz>=2017.2 in /Library/Frameworks/Python.framework/Versions/3.6/lib/python3.6/site-packages (from pandas) (2022.6)\r\n",
      "Requirement already satisfied: pillow>=6.2.0 in /Library/Frameworks/Python.framework/Versions/3.6/lib/python3.6/site-packages (from matplotlib) (8.4.0)\r\n",
      "Requirement already satisfied: cycler>=0.10 in /Library/Frameworks/Python.framework/Versions/3.6/lib/python3.6/site-packages (from matplotlib) (0.11.0)\r\n",
      "Requirement already satisfied: pyparsing!=2.0.4,!=2.1.2,!=2.1.6,>=2.0.3 in /Library/Frameworks/Python.framework/Versions/3.6/lib/python3.6/site-packages (from matplotlib) (3.0.7)\r\n",
      "Requirement already satisfied: kiwisolver>=1.0.1 in /Library/Frameworks/Python.framework/Versions/3.6/lib/python3.6/site-packages (from matplotlib) (1.3.1)\r\n",
      "Requirement already satisfied: scipy>=1.0 in /Library/Frameworks/Python.framework/Versions/3.6/lib/python3.6/site-packages (from seaborn) (1.5.4)\r\n",
      "Requirement already satisfied: six>=1.5 in /Library/Frameworks/Python.framework/Versions/3.6/lib/python3.6/site-packages (from python-dateutil>=2.7.3->pandas) (1.16.0)\r\n"
     ]
    }
   ],
   "source": [
    "!pip3 install joblib numpy sklearn pandas matplotlib seaborn"
   ],
   "metadata": {
    "collapsed": false
   }
  },
  {
   "cell_type": "code",
   "execution_count": 17,
   "outputs": [
    {
     "ename": "ModuleNotFoundError",
     "evalue": "No module named 'tensorflow'",
     "output_type": "error",
     "traceback": [
      "\u001B[0;31m---------------------------------------------------------------------------\u001B[0m",
      "\u001B[0;31mModuleNotFoundError\u001B[0m                       Traceback (most recent call last)",
      "\u001B[0;32m<ipython-input-17-5ebe97fccdcf>\u001B[0m in \u001B[0;36m<module>\u001B[0;34m\u001B[0m\n\u001B[0;32m----> 1\u001B[0;31m \u001B[0;32mimport\u001B[0m \u001B[0mtensorflow\u001B[0m \u001B[0;32mas\u001B[0m \u001B[0mtf\u001B[0m\u001B[0;34m\u001B[0m\u001B[0m\n\u001B[0m\u001B[1;32m      2\u001B[0m \u001B[0mprint\u001B[0m\u001B[0;34m(\u001B[0m\u001B[0;34m\"Num GPUs Available: \"\u001B[0m\u001B[0;34m,\u001B[0m \u001B[0mlen\u001B[0m\u001B[0;34m(\u001B[0m\u001B[0mtf\u001B[0m\u001B[0;34m.\u001B[0m\u001B[0mconfig\u001B[0m\u001B[0;34m.\u001B[0m\u001B[0mlist_physical_devices\u001B[0m\u001B[0;34m(\u001B[0m\u001B[0;34m'GPU'\u001B[0m\u001B[0;34m)\u001B[0m\u001B[0;34m)\u001B[0m\u001B[0;34m)\u001B[0m\u001B[0;34m\u001B[0m\u001B[0m\n\u001B[1;32m      3\u001B[0m \u001B[0;32mfrom\u001B[0m \u001B[0mtensorflow\u001B[0m\u001B[0;34m.\u001B[0m\u001B[0mpython\u001B[0m\u001B[0;34m.\u001B[0m\u001B[0mkeras\u001B[0m \u001B[0;32mimport\u001B[0m \u001B[0mbackend\u001B[0m \u001B[0;32mas\u001B[0m \u001B[0mK\u001B[0m\u001B[0;34m\u001B[0m\u001B[0m\n\u001B[1;32m      4\u001B[0m \u001B[0mprint\u001B[0m\u001B[0;34m(\u001B[0m\u001B[0mK\u001B[0m\u001B[0;34m.\u001B[0m\u001B[0m_get_available_gpus\u001B[0m\u001B[0;34m(\u001B[0m\u001B[0;34m)\u001B[0m\u001B[0;34m)\u001B[0m\u001B[0;34m\u001B[0m\u001B[0m\n",
      "\u001B[0;31mModuleNotFoundError\u001B[0m: No module named 'tensorflow'"
     ]
    }
   ],
   "source": [
    "import tensorflow as tf\n",
    "print(\"Num GPUs Available: \", len(tf.config.list_physical_devices('GPU')))\n",
    "from tensorflow.python.keras import backend as K\n",
    "print(K._get_available_gpus())"
   ],
   "metadata": {
    "collapsed": false
   }
  },
  {
   "cell_type": "code",
   "execution_count": 15,
   "outputs": [
    {
     "name": "stdout",
     "output_type": "stream",
     "text": [
      "/Library/Frameworks/Python.framework/Versions/3.6/bin/pip3\r\n"
     ]
    }
   ],
   "source": [
    "!which pip3"
   ],
   "metadata": {
    "collapsed": false
   }
  },
  {
   "cell_type": "code",
   "execution_count": 5,
   "outputs": [],
   "source": [
    "import joblib\n",
    "\n",
    "import tensorflow as tf\n",
    "import numpy as np\n",
    "import datetime\n",
    "from tensorflow.keras import layers\n",
    "from tensorflow.keras.models import Model\n",
    "from sklearn.preprocessing import LabelEncoder\n",
    "scale_col = \"x_gaze_location_standard_scaled\"\n",
    "\n",
    "def apply_phq_cutoff(df , neg_phq_cutoff, pos_phq_cutoff):\n",
    "    df[\"phq_binary_label\"] = [0.0 if x <= neg_phq_cutoff else 1.0 if x >= pos_phq_cutoff else \"other\" for x in df.phq_score]\n",
    "    df = df[df.phq_binary_label!= 'other']\n",
    "    return df\n",
    "\n",
    "\n",
    "def get_timecols_df_for_DL(fn =\"/Users/orenkobo/Desktop/PhD_new/repos/HebLingStudy/notebooks/df.csv\",\n",
    "                           scale_col = scale_col):\n",
    "\n",
    "    import string, re\n",
    "    print(f\"{datetime.datetime.now()} Reading csv from {fn}\")\n",
    "    df = pd.read_csv(fn,\n",
    "                     index_col=None,\n",
    "                     converters={#'alephbert_enc': eval,\n",
    "                         scale_col : eval,\n",
    "                         # 'x_gaze_location_minmax_scaled' : eval,\n",
    "                         # 'x_gaze_location_standard_scaled' : eval,\n",
    "                         # 'target_word_x_range' : eval\n",
    "                         # 'phq_label': bool\n",
    "                     })\n",
    "    print(df.shape)\n",
    "\n",
    "\n",
    "    df = df[df.Sentence_type != 'F'].reset_index(drop=True)\n",
    "\n",
    "\n",
    "    id_cols = [\"phq_score\",\"phq_group\",\"Subject\", \"Sentence_type\",\n",
    "               \"sentence_pupil_diameter_mean\",\"set_num\"]\n",
    "    # vec_size = 3500\n",
    "    # new_colname = f\"x_gaze_location_{vec_size}\"\n",
    "    cols = [f\"timepoint#{i}\" for i in range(875)]\n",
    "    # df[new_colname] = df[\"x_gaze_location_standard_scaled\"].apply(lambda x : x[:vec_size])\n",
    "    timeseries_df = pd.DataFrame(data = df[scale_col].to_list() , columns = cols)\n",
    "    timeseries_df[id_cols] = df[id_cols]\n",
    "    timeseries_df = timeseries_df.iloc[:,200:]\n",
    "    cols = [x for x in timeseries_df.columns if \"timepoint\" in x]\n",
    "    return timeseries_df, cols"
   ],
   "metadata": {
    "collapsed": false
   }
  },
  {
   "cell_type": "code",
   "execution_count": 6,
   "outputs": [
    {
     "name": "stdout",
     "output_type": "stream",
     "text": [
      "2022-07-10 09:21:12.751801 Reading csv from /export/home/orenkobo/Aim1/paper_analysis/Artifacts/df_new_full__unsegmented_alldata_new_FINAL_paparanalysis.csv\n",
      "(9696, 32)\n"
     ]
    },
    {
     "data": {
      "text/plain": "      timepoint#200  timepoint#201  timepoint#202  timepoint#203  \\\n0          1.248853       1.242846       1.250856       1.257864   \n1         -0.605603      -0.604602      -0.602600      -0.590588   \n2          0.127316       0.133326       0.121306       0.099268   \n3         -1.144312      -1.155340      -1.149325      -1.117245   \n4         -1.554332      -1.571359      -1.577369      -1.608418   \n...             ...            ...            ...            ...   \n3227      -1.686416      -1.706449      -1.697434      -2.352531   \n3228       0.985337       0.997349       0.986338       0.976329   \n3229       1.002969       1.014985       0.504330       0.345126   \n3230       1.745621       1.753631       1.758638       1.737610   \n3231       0.597177       0.605189       0.584156       0.580149   \n\n      timepoint#204  timepoint#205  timepoint#206  timepoint#207  \\\n0          1.246851       1.239843       1.238841       1.250856   \n1         -1.061065      -1.648661      -1.700713      -1.695708   \n2          0.104277       0.115296       0.122307       0.124311   \n3         -1.106217      -1.129275      -1.135290      -1.111230   \n4         -1.600405      -1.571359      -1.558338      -1.560341   \n...             ...            ...            ...            ...   \n3227      -2.500779      -2.447690      -2.421646      -2.419643   \n3228       0.983335       0.991343       0.990342       0.994346   \n3229       0.339118       0.340120       0.351134       0.363149   \n3230       1.736609       1.735608       1.736609       1.741616   \n3231       0.589164       0.593170       0.607193       0.593170   \n\n      timepoint#208  timepoint#209  ...  Subject  Sentence_type  \\\n0          1.242846       1.239843  ...        3              A   \n1         -1.703717      -1.710724  ...        3              B   \n2          0.135330       0.161374  ...        3              D   \n3         -1.109224      -1.127270  ...        3              A   \n4         -1.565349      -1.573362  ...        3              B   \n...             ...            ...  ...      ...            ...   \n3227      -2.425653      -2.450695  ...      139              D   \n3228       0.975328       0.977330  ...      139              D   \n3229       0.364150       0.377167  ...      139              A   \n3230       1.322060       1.367120  ...      139              C   \n3231       0.599180       0.602185  ...      139              C   \n\n      sentence_pupil_diameter_mean  set_num  phq_binary_label  A  B  C  D  \\\n0                      5110.630668       17               0.0  1  0  0  0   \n1                      4974.146741        5               0.0  0  1  0  0   \n2                      4739.278462       12               0.0  0  0  0  1   \n3                      4775.260020        6               0.0  1  0  0  0   \n4                      4746.720839       26               0.0  0  1  0  0   \n...                            ...      ...               ... .. .. .. ..   \n3227                   5117.994088        0               1.0  0  0  0  1   \n3228                   4995.187626       15               1.0  0  0  0  1   \n3229                   4934.199434       27               1.0  1  0  0  0   \n3230                   5056.427875        4               1.0  0  0  1  0   \n3231                   5069.907967       13               1.0  0  0  1  0   \n\n      encoded_cond  \n0                0  \n1                1  \n2                3  \n3                0  \n4                1  \n...            ...  \n3227             3  \n3228             3  \n3229             0  \n3230             2  \n3231             2  \n\n[3232 rows x 687 columns]",
      "text/html": "<div>\n<style scoped>\n    .dataframe tbody tr th:only-of-type {\n        vertical-align: middle;\n    }\n\n    .dataframe tbody tr th {\n        vertical-align: top;\n    }\n\n    .dataframe thead th {\n        text-align: right;\n    }\n</style>\n<table border=\"1\" class=\"dataframe\">\n  <thead>\n    <tr style=\"text-align: right;\">\n      <th></th>\n      <th>timepoint#200</th>\n      <th>timepoint#201</th>\n      <th>timepoint#202</th>\n      <th>timepoint#203</th>\n      <th>timepoint#204</th>\n      <th>timepoint#205</th>\n      <th>timepoint#206</th>\n      <th>timepoint#207</th>\n      <th>timepoint#208</th>\n      <th>timepoint#209</th>\n      <th>...</th>\n      <th>Subject</th>\n      <th>Sentence_type</th>\n      <th>sentence_pupil_diameter_mean</th>\n      <th>set_num</th>\n      <th>phq_binary_label</th>\n      <th>A</th>\n      <th>B</th>\n      <th>C</th>\n      <th>D</th>\n      <th>encoded_cond</th>\n    </tr>\n  </thead>\n  <tbody>\n    <tr>\n      <th>0</th>\n      <td>1.248853</td>\n      <td>1.242846</td>\n      <td>1.250856</td>\n      <td>1.257864</td>\n      <td>1.246851</td>\n      <td>1.239843</td>\n      <td>1.238841</td>\n      <td>1.250856</td>\n      <td>1.242846</td>\n      <td>1.239843</td>\n      <td>...</td>\n      <td>3</td>\n      <td>A</td>\n      <td>5110.630668</td>\n      <td>17</td>\n      <td>0.0</td>\n      <td>1</td>\n      <td>0</td>\n      <td>0</td>\n      <td>0</td>\n      <td>0</td>\n    </tr>\n    <tr>\n      <th>1</th>\n      <td>-0.605603</td>\n      <td>-0.604602</td>\n      <td>-0.602600</td>\n      <td>-0.590588</td>\n      <td>-1.061065</td>\n      <td>-1.648661</td>\n      <td>-1.700713</td>\n      <td>-1.695708</td>\n      <td>-1.703717</td>\n      <td>-1.710724</td>\n      <td>...</td>\n      <td>3</td>\n      <td>B</td>\n      <td>4974.146741</td>\n      <td>5</td>\n      <td>0.0</td>\n      <td>0</td>\n      <td>1</td>\n      <td>0</td>\n      <td>0</td>\n      <td>1</td>\n    </tr>\n    <tr>\n      <th>2</th>\n      <td>0.127316</td>\n      <td>0.133326</td>\n      <td>0.121306</td>\n      <td>0.099268</td>\n      <td>0.104277</td>\n      <td>0.115296</td>\n      <td>0.122307</td>\n      <td>0.124311</td>\n      <td>0.135330</td>\n      <td>0.161374</td>\n      <td>...</td>\n      <td>3</td>\n      <td>D</td>\n      <td>4739.278462</td>\n      <td>12</td>\n      <td>0.0</td>\n      <td>0</td>\n      <td>0</td>\n      <td>0</td>\n      <td>1</td>\n      <td>3</td>\n    </tr>\n    <tr>\n      <th>3</th>\n      <td>-1.144312</td>\n      <td>-1.155340</td>\n      <td>-1.149325</td>\n      <td>-1.117245</td>\n      <td>-1.106217</td>\n      <td>-1.129275</td>\n      <td>-1.135290</td>\n      <td>-1.111230</td>\n      <td>-1.109224</td>\n      <td>-1.127270</td>\n      <td>...</td>\n      <td>3</td>\n      <td>A</td>\n      <td>4775.260020</td>\n      <td>6</td>\n      <td>0.0</td>\n      <td>1</td>\n      <td>0</td>\n      <td>0</td>\n      <td>0</td>\n      <td>0</td>\n    </tr>\n    <tr>\n      <th>4</th>\n      <td>-1.554332</td>\n      <td>-1.571359</td>\n      <td>-1.577369</td>\n      <td>-1.608418</td>\n      <td>-1.600405</td>\n      <td>-1.571359</td>\n      <td>-1.558338</td>\n      <td>-1.560341</td>\n      <td>-1.565349</td>\n      <td>-1.573362</td>\n      <td>...</td>\n      <td>3</td>\n      <td>B</td>\n      <td>4746.720839</td>\n      <td>26</td>\n      <td>0.0</td>\n      <td>0</td>\n      <td>1</td>\n      <td>0</td>\n      <td>0</td>\n      <td>1</td>\n    </tr>\n    <tr>\n      <th>...</th>\n      <td>...</td>\n      <td>...</td>\n      <td>...</td>\n      <td>...</td>\n      <td>...</td>\n      <td>...</td>\n      <td>...</td>\n      <td>...</td>\n      <td>...</td>\n      <td>...</td>\n      <td>...</td>\n      <td>...</td>\n      <td>...</td>\n      <td>...</td>\n      <td>...</td>\n      <td>...</td>\n      <td>...</td>\n      <td>...</td>\n      <td>...</td>\n      <td>...</td>\n      <td>...</td>\n    </tr>\n    <tr>\n      <th>3227</th>\n      <td>-1.686416</td>\n      <td>-1.706449</td>\n      <td>-1.697434</td>\n      <td>-2.352531</td>\n      <td>-2.500779</td>\n      <td>-2.447690</td>\n      <td>-2.421646</td>\n      <td>-2.419643</td>\n      <td>-2.425653</td>\n      <td>-2.450695</td>\n      <td>...</td>\n      <td>139</td>\n      <td>D</td>\n      <td>5117.994088</td>\n      <td>0</td>\n      <td>1.0</td>\n      <td>0</td>\n      <td>0</td>\n      <td>0</td>\n      <td>1</td>\n      <td>3</td>\n    </tr>\n    <tr>\n      <th>3228</th>\n      <td>0.985337</td>\n      <td>0.997349</td>\n      <td>0.986338</td>\n      <td>0.976329</td>\n      <td>0.983335</td>\n      <td>0.991343</td>\n      <td>0.990342</td>\n      <td>0.994346</td>\n      <td>0.975328</td>\n      <td>0.977330</td>\n      <td>...</td>\n      <td>139</td>\n      <td>D</td>\n      <td>4995.187626</td>\n      <td>15</td>\n      <td>1.0</td>\n      <td>0</td>\n      <td>0</td>\n      <td>0</td>\n      <td>1</td>\n      <td>3</td>\n    </tr>\n    <tr>\n      <th>3229</th>\n      <td>1.002969</td>\n      <td>1.014985</td>\n      <td>0.504330</td>\n      <td>0.345126</td>\n      <td>0.339118</td>\n      <td>0.340120</td>\n      <td>0.351134</td>\n      <td>0.363149</td>\n      <td>0.364150</td>\n      <td>0.377167</td>\n      <td>...</td>\n      <td>139</td>\n      <td>A</td>\n      <td>4934.199434</td>\n      <td>27</td>\n      <td>1.0</td>\n      <td>1</td>\n      <td>0</td>\n      <td>0</td>\n      <td>0</td>\n      <td>0</td>\n    </tr>\n    <tr>\n      <th>3230</th>\n      <td>1.745621</td>\n      <td>1.753631</td>\n      <td>1.758638</td>\n      <td>1.737610</td>\n      <td>1.736609</td>\n      <td>1.735608</td>\n      <td>1.736609</td>\n      <td>1.741616</td>\n      <td>1.322060</td>\n      <td>1.367120</td>\n      <td>...</td>\n      <td>139</td>\n      <td>C</td>\n      <td>5056.427875</td>\n      <td>4</td>\n      <td>1.0</td>\n      <td>0</td>\n      <td>0</td>\n      <td>1</td>\n      <td>0</td>\n      <td>2</td>\n    </tr>\n    <tr>\n      <th>3231</th>\n      <td>0.597177</td>\n      <td>0.605189</td>\n      <td>0.584156</td>\n      <td>0.580149</td>\n      <td>0.589164</td>\n      <td>0.593170</td>\n      <td>0.607193</td>\n      <td>0.593170</td>\n      <td>0.599180</td>\n      <td>0.602185</td>\n      <td>...</td>\n      <td>139</td>\n      <td>C</td>\n      <td>5069.907967</td>\n      <td>13</td>\n      <td>1.0</td>\n      <td>0</td>\n      <td>0</td>\n      <td>1</td>\n      <td>0</td>\n      <td>2</td>\n    </tr>\n  </tbody>\n</table>\n<p>3232 rows × 687 columns</p>\n</div>"
     },
     "execution_count": 6,
     "metadata": {},
     "output_type": "execute_result"
    }
   ],
   "source": [
    "import pandas as pd\n",
    "d = {}\n",
    "df_fn = \"/export/home/orenkobo/Aim1/paper_analysis/Artifacts/df_new_full__unsegmented_alldata_new_FINAL_paparanalysis.csv\"\n",
    "# df_fn = \"/Users/orenkobo/Desktop/PhD/HebLingStudy/ts_data/Artifacts2/df_new_full__unsegmented_alldata_new_FINAL.csv\"\n",
    "# et_scale_col = \"x_gaze_location_rescaled\"\n",
    "et_scale_col = \"x_gaze_location_standard_scaled\"\n",
    "override_cutoff = [7,8]\n",
    "df, timepoint_cols = get_timecols_df_for_DL(fn =df_fn, scale_col = scale_col)\n",
    "df = apply_phq_cutoff(df,\n",
    "                      neg_phq_cutoff = override_cutoff[0],\n",
    "                      pos_phq_cutoff = override_cutoff[1])\n",
    "\n",
    "\n",
    "cond_df = pd.get_dummies(df['Sentence_type'])\n",
    "cond_cols = cond_df.columns.tolist()\n",
    "df = pd.concat([df, cond_df],axis=1)\n",
    "df = df.reset_index(drop=True)\n",
    "df['encoded_cond'] = LabelEncoder().fit_transform(df['Sentence_type'])\n",
    "\n",
    "df"
   ],
   "metadata": {
    "collapsed": false
   }
  },
  {
   "cell_type": "code",
   "execution_count": 7,
   "outputs": [
    {
     "name": "stdout",
     "output_type": "stream",
     "text": [
      "(3232, 675)\n",
      "(1427, 675)\n",
      "(3232, 675)\n"
     ]
    }
   ],
   "source": [
    "print(df[timepoint_cols].shape)\n",
    "print(df[timepoint_cols].dropna().shape)\n",
    "df[timepoint_cols] = df[timepoint_cols].ffill()\n",
    "print(df[timepoint_cols].shape)"
   ],
   "metadata": {
    "collapsed": false
   }
  },
  {
   "cell_type": "code",
   "execution_count": 8,
   "outputs": [],
   "source": [
    "def generate_3d_ds(df, feats = timepoint_cols):\n",
    "    data_3d = []\n",
    "\n",
    "    labels = []\n",
    "    # print(f\"{datetime.datetime.now()} - DS generated Start\")\n",
    "    for idx , row in df.iterrows():\n",
    "        # if (idx % 500) == 0:\n",
    "        #     print(idx)\n",
    "        l = []\n",
    "        for col in feats:\n",
    "            l.append([row[col]] + [row['encoded_cond']])\n",
    "        data_3d.append(l)\n",
    "        labels.append(row[\"phq_binary_label\"])\n",
    "    X_input = np.asarray(data_3d)\n",
    "    X_input_reshaped = np.swapaxes(X_input,1,2)\n",
    "    # print(f\"{datetime.datetime.now()} - DS generated Done\")\n",
    "\n",
    "    return X_input_reshaped, labels\n"
   ],
   "metadata": {
    "collapsed": false
   }
  },
  {
   "cell_type": "code",
   "execution_count": 9,
   "outputs": [],
   "source": [
    "def calc_per_subj_pred(pred, n=32):\n",
    "    if type(pred) != list:\n",
    "        pred = [x[0] for x in pred]\n",
    "    c = [pred[i * n:(i + 1) * n] for i in range((len(pred) + n - 1) // n )]\n",
    "    l = pd.DataFrame(c).mean(axis=1)\n",
    "    return l"
   ],
   "metadata": {
    "collapsed": false
   }
  },
  {
   "cell_type": "code",
   "execution_count": 25,
   "outputs": [],
   "source": [
    "callbacks = [tf.keras.callbacks.EarlyStopping(monitor='val_loss',patience=16, restore_best_weights=True)]\n",
    "\n",
    "def train_fold(X_train, y_train, X_val, y_val, voc_size=4, nepochs=20):\n",
    "\n",
    "    inp1 = layers.Input(shape=(1, 675))  # TensorShape([None, 2, 100])\n",
    "    inp2 = layers.Input(shape=(1, 675))  # TensorShape([None, 1, 100])\n",
    "    x2 = layers.Embedding(input_dim=voc_size, output_dim=8)(inp2)  # TensorShape([None, 1, 100, 8])\n",
    "    x2_reshaped = tf.transpose(tf.squeeze(x2, axis=1), [0, 2, 1])  # TensorShape([None, 8, 100])\n",
    "    x = layers.concatenate([inp1, x2_reshaped], axis=1)\n",
    "    x = layers.LSTM(32, activation='tanh',\n",
    "                    # kernel_regularizer=tf.keras.regularizers.l1(0.001),\n",
    "                    activity_regularizer=tf.keras.regularizers.l1(0.01)\n",
    "                    )(x)\n",
    "    x = layers.Dropout(0.1)(x)\n",
    "    x = layers.Dense(8, activation='tanh',\n",
    "                    kernel_regularizer=tf.keras.regularizers.l2(0.01),\n",
    "                    activity_regularizer=tf.keras.regularizers.l2(0.01)\n",
    "                    )(x)\n",
    "    x = layers.Dropout(0.1)(x)\n",
    "    x = layers.Dense(1, activation='sigmoid')(x)\n",
    "    model = Model(inputs=[inp1, inp2], outputs=[x])\n",
    "\n",
    "    # print(\"A1 : \", datetime.datetime.now())\n",
    "    opt = tf.keras.optimizers.Adam(learning_rate=0.1)\n",
    "\n",
    "    model.compile(\n",
    "        loss='binary_crossentropy',\n",
    "        optimizer=opt,\n",
    "        metrics=['acc']\n",
    "    )\n",
    "\n",
    "    train_inp_gaze = X_train[:, :1, :]\n",
    "    train_inp_cond = X_train[:, 1:, :]\n",
    "    val_inp_gaze = X_val[:, :1, :]\n",
    "    val_inp_cond = X_val[:, 1:, :]\n",
    "\n",
    "\n",
    "\n",
    "    his = model.fit(epochs=nepochs, verbose=0,\n",
    "              x=[train_inp_gaze, train_inp_cond], y=np.array(y_train).astype('float'),\n",
    "              validation_data = ([val_inp_gaze, val_inp_cond], np.array(y_val).astype('float')),\n",
    "                    callbacks = callbacks)\n",
    "    return model\n"
   ],
   "metadata": {
    "collapsed": false
   }
  },
  {
   "cell_type": "code",
   "execution_count": 26,
   "outputs": [],
   "source": [
    "df[\"Is_congruent\"] = [True if x in ['A','C'] else False for x in df[\"Sentence_type\"]]\n",
    "df[\"Is_pos\"] = [True if x in ['A','B'] else False for x in df[\"Sentence_type\"]]"
   ],
   "metadata": {
    "collapsed": false
   }
  },
  {
   "cell_type": "code",
   "execution_count": null,
   "outputs": [
    {
     "name": "stdout",
     "output_type": "stream",
     "text": [
      "2022-07-10 12:05:49.377008\n",
      "2022-07-10 12:05:49.395406 : Start - c = 1/4 (epochs, iters, n_tests, shuffled) = (20, 20, 10, False)\n",
      "2022-07-10 12:05:49.410940: Iter 0 (c=1)\n",
      "10/10 [==============================] - 0s 4ms/step - loss: 0.8064 - acc: 0.7000\n",
      "10/10 [==============================] - 0s 4ms/step - loss: 0.7993 - acc: 0.6000\n",
      "10/10 [==============================] - 0s 4ms/step - loss: 0.7799 - acc: 0.4000\n",
      "10/10 [==============================] - 0s 4ms/step - loss: 0.7922 - acc: 0.4781\n",
      "10/10 [==============================] - 0s 4ms/step - loss: 0.8665 - acc: 0.3000\n",
      "10/10 [==============================] - 0s 4ms/step - loss: 0.7606 - acc: 0.3000\n",
      "10/10 [==============================] - 0s 4ms/step - loss: 0.7552 - acc: 0.5000\n",
      "10/10 [==============================] - 0s 4ms/step - loss: 0.8161 - acc: 0.6000\n",
      "10/10 [==============================] - 0s 4ms/step - loss: 0.7809 - acc: 0.5000\n",
      "10/10 [==============================] - 0s 4ms/step - loss: 0.8928 - acc: 0.3000\n",
      "10/10 [==============================] - 0s 5ms/step - loss: 0.7177 - acc: 0.6562\n",
      "10/10 [==============================] - 0s 4ms/step - loss: 0.7789 - acc: 0.4938\n",
      "10/10 [==============================] - 0s 4ms/step - loss: 0.7575 - acc: 0.4000\n",
      "10/10 [==============================] - 0s 4ms/step - loss: 0.7980 - acc: 0.5000\n",
      "10/10 [==============================] - 0s 4ms/step - loss: 0.7495 - acc: 0.5000\n",
      "10/10 [==============================] - 0s 4ms/step - loss: 0.6695 - acc: 0.8000\n",
      "10/10 [==============================] - 0s 4ms/step - loss: 0.7668 - acc: 0.4500\n",
      "10/10 [==============================] - 0s 4ms/step - loss: 0.7734 - acc: 0.5000\n",
      "10/10 [==============================] - 0s 4ms/step - loss: 0.8490 - acc: 0.4500\n",
      "10/10 [==============================] - 0s 4ms/step - loss: 0.8116 - acc: 0.4000\n",
      "2022-07-10 12:16:00.857047 - c = 1 , accs are 0.49140625447034836\n",
      "2022-07-10 12:16:00.857233 : Start - c = 2/4 (epochs, iters, n_tests, shuffled) = (30, 20, 10, False)\n",
      "2022-07-10 12:16:00.870082: Iter 0 (c=2)\n",
      "10/10 [==============================] - 0s 4ms/step - loss: 0.7887 - acc: 0.3156\n",
      "10/10 [==============================] - 0s 4ms/step - loss: 0.8228 - acc: 0.4000\n",
      "10/10 [==============================] - 0s 4ms/step - loss: 0.8224 - acc: 0.3000\n",
      "10/10 [==============================] - 0s 5ms/step - loss: 0.7321 - acc: 0.4000\n",
      "10/10 [==============================] - 0s 4ms/step - loss: 0.8153 - acc: 0.3000\n",
      "10/10 [==============================] - 0s 4ms/step - loss: 0.7775 - acc: 0.7000\n",
      "10/10 [==============================] - 0s 5ms/step - loss: 0.8210 - acc: 0.5000\n",
      "10/10 [==============================] - 0s 5ms/step - loss: 0.8064 - acc: 0.6000\n",
      "10/10 [==============================] - 0s 5ms/step - loss: 0.7366 - acc: 0.5000\n",
      "10/10 [==============================] - 0s 4ms/step - loss: 0.7406 - acc: 0.3000\n",
      "10/10 [==============================] - 0s 4ms/step - loss: 0.8519 - acc: 0.3000\n",
      "10/10 [==============================] - 0s 4ms/step - loss: 0.9407 - acc: 0.5000\n",
      "10/10 [==============================] - 0s 4ms/step - loss: 0.8358 - acc: 0.4500\n",
      "10/10 [==============================] - 0s 4ms/step - loss: 0.7332 - acc: 0.5000\n",
      "10/10 [==============================] - 0s 4ms/step - loss: 0.8262 - acc: 0.5000\n",
      "10/10 [==============================] - 0s 4ms/step - loss: 0.7205 - acc: 0.8000\n"
     ]
    }
   ],
   "source": [
    "import numpy as np\n",
    "from sklearn.model_selection import LeavePGroupsOut, GroupShuffleSplit\n",
    "import random\n",
    "\n",
    "def train_loop(df, nepochs, niters, ntests, shuffles):\n",
    "    from numpy.random import seed\n",
    "    seed(1)\n",
    "    tf.random.set_seed(3)\n",
    "    # from tensorflow.keras.utils import set_random_seed\n",
    "    # set_random_seed(2)\n",
    "    c = 0\n",
    "    # num_iters = 2\n",
    "    groups1 = df['Subject']\n",
    "    # lpgo1 = LeavePGroupsOut(n_groups=10)\n",
    "    res_dict = {}\n",
    "    i = 0\n",
    "    d = []\n",
    "    total = len(shuffles) * len(nepochs) * len(niters) * len(ntests)\n",
    "    for target in [\"Is_congruent\", \"Is_pos\"]:\n",
    "        for to_shuffle in shuffles:\n",
    "            for ne in nepochs:\n",
    "                # if 1==1:\n",
    "                for num_iters in niters:#,200]:#310,15,20,25,30,50,100]:\n",
    "                    for n_test_subjs in ntests:#,10,15,20]:# [4,8,12,15,20]:\n",
    "\n",
    "                        c+=1\n",
    "                        lpgo1 = GroupShuffleSplit(n_splits=num_iters, test_size=n_test_subjs, random_state = 7)\n",
    "                        print(f\"{datetime.datetime.now()} : Start - c = {c}/{total} (epochs, iters, n_tests, shuffled) = {ne, num_iters, n_test_subjs, to_shuffle}\")\n",
    "                        i = 0\n",
    "                        for tmp_index, test_index in lpgo1.split(X = df[timepoint_cols] , y = df[target], groups = groups1):\n",
    "                            if i % 50 == 0:\n",
    "                                print(f\"{datetime.datetime.now()}: Iter {i} (c={c})\")\n",
    "                            if i==num_iters:\n",
    "                                break\n",
    "                            res_dict[i] = {}\n",
    "                            # lpgo2 = LeavePGroupsOut(n_groups=10)\n",
    "                            lpgo2 = GroupShuffleSplit(n_splits=num_iters, test_size=n_test_subjs, random_state = 7)\n",
    "                            test_subjects = list(np.unique(groups1.iloc[test_index]))\n",
    "                            test_df = df.iloc[test_index]\n",
    "                            tmp_df = df.iloc[tmp_index]\n",
    "                            groups2 = tmp_df['Subject']\n",
    "                            for train_index, val_index in lpgo2.split(X = tmp_df[timepoint_cols] ,\n",
    "                                                                      y = tmp_df[target],\n",
    "                                                                      groups = groups2):\n",
    "\n",
    "                                train_df = tmp_df.iloc[train_index]\n",
    "                                val_df = tmp_df.iloc[val_index]\n",
    "                                break\n",
    "                            X_train, y_train = generate_3d_ds(train_df)\n",
    "                            X_test, y_test = generate_3d_ds(test_df)\n",
    "                            X_val, y_val = generate_3d_ds(val_df)\n",
    "\n",
    "                            if to_shuffle:\n",
    "                                y_train = random.sample(y_train, len(y_train))\n",
    "                                y_test = random.sample(y_test, len(y_test))\n",
    "                                y_val = random.sample(y_val, len(y_val))\n",
    "\n",
    "                            fold_model = train_fold(X_train, y_train, X_val, y_val , nepochs=ne)\n",
    "                            fold_eval = fold_model.evaluate([X_test[:, :1, :], X_test[:, 1:, :]], np.array(y_test).astype('float'))\n",
    "                            fold_test_pred = fold_model.predict([X_test[:, :1, :], X_test[:, 1:, :]])\n",
    "\n",
    "                            res_dict[i][\"eval\"] = fold_eval[1]\n",
    "                            res_dict[i][\"test_subjects\"] = test_subjects\n",
    "                            res_dict[i][\"test_pred\"] = [x[0] for x in fold_test_pred]\n",
    "\n",
    "                            i+=1\n",
    "\n",
    "                        conf_acc_1 = np.mean([res_dict[x]['eval'] for x in range(num_iters)])\n",
    "                        print(f\"{datetime.datetime.now()} - c = {c} , accs are {conf_acc_1}\")\n",
    "\n",
    "                        d.append([target, num_iters, ne, n_test_subjs, conf_acc_1, to_shuffle])\n",
    "    print(f\"{datetime.datetime.now()} Done\")\n",
    "    print(d)\n",
    "    df = pd.DataFrame(d , columns=[\"num_iters\",\"num_epochs\",\"num_test_subjs\",\"eval\", \"is_shuffled_iter\"])\n",
    "    print(df)\n",
    "    return df\n",
    "\n",
    "print(datetime.datetime.now())\n",
    "train_loop(df, nepochs = [20, 30], ntests = [10], niters = [20], shuffles = [False, True])\n",
    "print(datetime.datetime.now())\n"
   ],
   "metadata": {
    "collapsed": false,
    "pycharm": {
     "is_executing": true
    }
   }
  },
  {
   "cell_type": "code",
   "execution_count": 12,
   "outputs": [
    {
     "name": "stdout",
     "output_type": "stream",
     "text": [
      "ERROR! Session/line number was not unique in"
     ]
    },
    {
     "data": {
      "text/plain": "      timepoint#200  timepoint#201  timepoint#202  timepoint#203  \\\n0          1.248853       1.242846       1.250856       1.257864   \n1         -0.605603      -0.604602      -0.602600      -0.590588   \n2          0.127316       0.133326       0.121306       0.099268   \n3         -1.144312      -1.155340      -1.149325      -1.117245   \n4         -1.554332      -1.571359      -1.577369      -1.608418   \n...             ...            ...            ...            ...   \n3227      -1.686416      -1.706449      -1.697434      -2.352531   \n3228       0.985337       0.997349       0.986338       0.976329   \n3229       1.002969       1.014985       0.504330       0.345126   \n3230       1.745621       1.753631       1.758638       1.737610   \n3231       0.597177       0.605189       0.584156       0.580149   \n\n      timepoint#204  timepoint#205  timepoint#206  timepoint#207  \\\n0          1.246851       1.239843       1.238841       1.250856   \n1         -1.061065      -1.648661      -1.700713      -1.695708   \n2          0.104277       0.115296       0.122307       0.124311   \n3         -1.106217      -1.129275      -1.135290      -1.111230   \n4         -1.600405      -1.571359      -1.558338      -1.560341   \n...             ...            ...            ...            ...   \n3227      -2.500779      -2.447690      -2.421646      -2.419643   \n3228       0.983335       0.991343       0.990342       0.994346   \n3229       0.339118       0.340120       0.351134       0.363149   \n3230       1.736609       1.735608       1.736609       1.741616   \n3231       0.589164       0.593170       0.607193       0.593170   \n\n      timepoint#208  timepoint#209  ...  sentence_pupil_diameter_mean  \\\n0          1.242846       1.239843  ...                   5110.630668   \n1         -1.703717      -1.710724  ...                   4974.146741   \n2          0.135330       0.161374  ...                   4739.278462   \n3         -1.109224      -1.127270  ...                   4775.260020   \n4         -1.565349      -1.573362  ...                   4746.720839   \n...             ...            ...  ...                           ...   \n3227      -2.425653      -2.450695  ...                   5117.994088   \n3228       0.975328       0.977330  ...                   4995.187626   \n3229       0.364150       0.377167  ...                   4934.199434   \n3230       1.322060       1.367120  ...                   5056.427875   \n3231       0.599180       0.602185  ...                   5069.907967   \n\n      set_num  phq_binary_label  A  B  C  D  encoded_cond  Is_congruent  \\\n0          17               0.0  1  0  0  0             0          True   \n1           5               0.0  0  1  0  0             1         False   \n2          12               0.0  0  0  0  1             3         False   \n3           6               0.0  1  0  0  0             0          True   \n4          26               0.0  0  1  0  0             1         False   \n...       ...               ... .. .. .. ..           ...           ...   \n3227        0               1.0  0  0  0  1             3         False   \n3228       15               1.0  0  0  0  1             3         False   \n3229       27               1.0  1  0  0  0             0          True   \n3230        4               1.0  0  0  1  0             2          True   \n3231       13               1.0  0  0  1  0             2          True   \n\n      Is_pos  \n0       True  \n1       True  \n2      False  \n3       True  \n4       True  \n...      ...  \n3227   False  \n3228   False  \n3229    True  \n3230   False  \n3231   False  \n\n[3232 rows x 689 columns]",
      "text/html": "<div>\n<style scoped>\n    .dataframe tbody tr th:only-of-type {\n        vertical-align: middle;\n    }\n\n    .dataframe tbody tr th {\n        vertical-align: top;\n    }\n\n    .dataframe thead th {\n        text-align: right;\n    }\n</style>\n<table border=\"1\" class=\"dataframe\">\n  <thead>\n    <tr style=\"text-align: right;\">\n      <th></th>\n      <th>timepoint#200</th>\n      <th>timepoint#201</th>\n      <th>timepoint#202</th>\n      <th>timepoint#203</th>\n      <th>timepoint#204</th>\n      <th>timepoint#205</th>\n      <th>timepoint#206</th>\n      <th>timepoint#207</th>\n      <th>timepoint#208</th>\n      <th>timepoint#209</th>\n      <th>...</th>\n      <th>sentence_pupil_diameter_mean</th>\n      <th>set_num</th>\n      <th>phq_binary_label</th>\n      <th>A</th>\n      <th>B</th>\n      <th>C</th>\n      <th>D</th>\n      <th>encoded_cond</th>\n      <th>Is_congruent</th>\n      <th>Is_pos</th>\n    </tr>\n  </thead>\n  <tbody>\n    <tr>\n      <th>0</th>\n      <td>1.248853</td>\n      <td>1.242846</td>\n      <td>1.250856</td>\n      <td>1.257864</td>\n      <td>1.246851</td>\n      <td>1.239843</td>\n      <td>1.238841</td>\n      <td>1.250856</td>\n      <td>1.242846</td>\n      <td>1.239843</td>\n      <td>...</td>\n      <td>5110.630668</td>\n      <td>17</td>\n      <td>0.0</td>\n      <td>1</td>\n      <td>0</td>\n      <td>0</td>\n      <td>0</td>\n      <td>0</td>\n      <td>True</td>\n      <td>True</td>\n    </tr>\n    <tr>\n      <th>1</th>\n      <td>-0.605603</td>\n      <td>-0.604602</td>\n      <td>-0.602600</td>\n      <td>-0.590588</td>\n      <td>-1.061065</td>\n      <td>-1.648661</td>\n      <td>-1.700713</td>\n      <td>-1.695708</td>\n      <td>-1.703717</td>\n      <td>-1.710724</td>\n      <td>...</td>\n      <td>4974.146741</td>\n      <td>5</td>\n      <td>0.0</td>\n      <td>0</td>\n      <td>1</td>\n      <td>0</td>\n      <td>0</td>\n      <td>1</td>\n      <td>False</td>\n      <td>True</td>\n    </tr>\n    <tr>\n      <th>2</th>\n      <td>0.127316</td>\n      <td>0.133326</td>\n      <td>0.121306</td>\n      <td>0.099268</td>\n      <td>0.104277</td>\n      <td>0.115296</td>\n      <td>0.122307</td>\n      <td>0.124311</td>\n      <td>0.135330</td>\n      <td>0.161374</td>\n      <td>...</td>\n      <td>4739.278462</td>\n      <td>12</td>\n      <td>0.0</td>\n      <td>0</td>\n      <td>0</td>\n      <td>0</td>\n      <td>1</td>\n      <td>3</td>\n      <td>False</td>\n      <td>False</td>\n    </tr>\n    <tr>\n      <th>3</th>\n      <td>-1.144312</td>\n      <td>-1.155340</td>\n      <td>-1.149325</td>\n      <td>-1.117245</td>\n      <td>-1.106217</td>\n      <td>-1.129275</td>\n      <td>-1.135290</td>\n      <td>-1.111230</td>\n      <td>-1.109224</td>\n      <td>-1.127270</td>\n      <td>...</td>\n      <td>4775.260020</td>\n      <td>6</td>\n      <td>0.0</td>\n      <td>1</td>\n      <td>0</td>\n      <td>0</td>\n      <td>0</td>\n      <td>0</td>\n      <td>True</td>\n      <td>True</td>\n    </tr>\n    <tr>\n      <th>4</th>\n      <td>-1.554332</td>\n      <td>-1.571359</td>\n      <td>-1.577369</td>\n      <td>-1.608418</td>\n      <td>-1.600405</td>\n      <td>-1.571359</td>\n      <td>-1.558338</td>\n      <td>-1.560341</td>\n      <td>-1.565349</td>\n      <td>-1.573362</td>\n      <td>...</td>\n      <td>4746.720839</td>\n      <td>26</td>\n      <td>0.0</td>\n      <td>0</td>\n      <td>1</td>\n      <td>0</td>\n      <td>0</td>\n      <td>1</td>\n      <td>False</td>\n      <td>True</td>\n    </tr>\n    <tr>\n      <th>...</th>\n      <td>...</td>\n      <td>...</td>\n      <td>...</td>\n      <td>...</td>\n      <td>...</td>\n      <td>...</td>\n      <td>...</td>\n      <td>...</td>\n      <td>...</td>\n      <td>...</td>\n      <td>...</td>\n      <td>...</td>\n      <td>...</td>\n      <td>...</td>\n      <td>...</td>\n      <td>...</td>\n      <td>...</td>\n      <td>...</td>\n      <td>...</td>\n      <td>...</td>\n      <td>...</td>\n    </tr>\n    <tr>\n      <th>3227</th>\n      <td>-1.686416</td>\n      <td>-1.706449</td>\n      <td>-1.697434</td>\n      <td>-2.352531</td>\n      <td>-2.500779</td>\n      <td>-2.447690</td>\n      <td>-2.421646</td>\n      <td>-2.419643</td>\n      <td>-2.425653</td>\n      <td>-2.450695</td>\n      <td>...</td>\n      <td>5117.994088</td>\n      <td>0</td>\n      <td>1.0</td>\n      <td>0</td>\n      <td>0</td>\n      <td>0</td>\n      <td>1</td>\n      <td>3</td>\n      <td>False</td>\n      <td>False</td>\n    </tr>\n    <tr>\n      <th>3228</th>\n      <td>0.985337</td>\n      <td>0.997349</td>\n      <td>0.986338</td>\n      <td>0.976329</td>\n      <td>0.983335</td>\n      <td>0.991343</td>\n      <td>0.990342</td>\n      <td>0.994346</td>\n      <td>0.975328</td>\n      <td>0.977330</td>\n      <td>...</td>\n      <td>4995.187626</td>\n      <td>15</td>\n      <td>1.0</td>\n      <td>0</td>\n      <td>0</td>\n      <td>0</td>\n      <td>1</td>\n      <td>3</td>\n      <td>False</td>\n      <td>False</td>\n    </tr>\n    <tr>\n      <th>3229</th>\n      <td>1.002969</td>\n      <td>1.014985</td>\n      <td>0.504330</td>\n      <td>0.345126</td>\n      <td>0.339118</td>\n      <td>0.340120</td>\n      <td>0.351134</td>\n      <td>0.363149</td>\n      <td>0.364150</td>\n      <td>0.377167</td>\n      <td>...</td>\n      <td>4934.199434</td>\n      <td>27</td>\n      <td>1.0</td>\n      <td>1</td>\n      <td>0</td>\n      <td>0</td>\n      <td>0</td>\n      <td>0</td>\n      <td>True</td>\n      <td>True</td>\n    </tr>\n    <tr>\n      <th>3230</th>\n      <td>1.745621</td>\n      <td>1.753631</td>\n      <td>1.758638</td>\n      <td>1.737610</td>\n      <td>1.736609</td>\n      <td>1.735608</td>\n      <td>1.736609</td>\n      <td>1.741616</td>\n      <td>1.322060</td>\n      <td>1.367120</td>\n      <td>...</td>\n      <td>5056.427875</td>\n      <td>4</td>\n      <td>1.0</td>\n      <td>0</td>\n      <td>0</td>\n      <td>1</td>\n      <td>0</td>\n      <td>2</td>\n      <td>True</td>\n      <td>False</td>\n    </tr>\n    <tr>\n      <th>3231</th>\n      <td>0.597177</td>\n      <td>0.605189</td>\n      <td>0.584156</td>\n      <td>0.580149</td>\n      <td>0.589164</td>\n      <td>0.593170</td>\n      <td>0.607193</td>\n      <td>0.593170</td>\n      <td>0.599180</td>\n      <td>0.602185</td>\n      <td>...</td>\n      <td>5069.907967</td>\n      <td>13</td>\n      <td>1.0</td>\n      <td>0</td>\n      <td>0</td>\n      <td>1</td>\n      <td>0</td>\n      <td>2</td>\n      <td>True</td>\n      <td>False</td>\n    </tr>\n  </tbody>\n</table>\n<p>3232 rows × 689 columns</p>\n</div>"
     },
     "execution_count": 12,
     "metadata": {},
     "output_type": "execute_result"
    },
    {
     "name": "stdout",
     "output_type": "stream",
     "text": [
      " database. History logging moved to new session 105\n"
     ]
    }
   ],
   "source": [
    "res_df = df.copy()\n",
    "res_df"
   ],
   "metadata": {
    "collapsed": false
   }
  },
  {
   "cell_type": "code",
   "execution_count": 49,
   "outputs": [
    {
     "data": {
      "text/plain": "    num_iters  num_epochs  num_test_subjs      eval  subj_acc\n0          50          10               1  0.480625     0.380\n1          50          10               5  0.453625     0.392\n2         100          10               1  0.462500     0.420\n3         100          10               5  0.471750     0.416\n4          50          15               1  0.422500     0.320\n5          50          15               5  0.477125     0.408\n6         100          15               1  0.485000     0.510\n7         100          15               5  0.480125     0.434\n8          50          20               1  0.438125     0.380\n9          50          20               5  0.446625     0.436\n10        100          20               1  0.471875     0.460\n11        100          20               5  0.446000     0.420\n12         50          30               1  0.460625     0.320\n13         50          30               5  0.453250     0.464\n14        100          30               1  0.467500     0.370\n15        100          30               5  0.448625     0.418\n16         50          50               1  0.440625     0.440\n17         50          50               5  0.427500     0.436\n18        100          50               1  0.458750     0.390\n19        100          50               5  0.414125     0.416\n20         50         100               1  0.488125     0.440\n21         50         100               5  0.455000     0.436\n22        100         100               1  0.444063     0.350\n23        100         100               5  0.433625     0.412",
      "text/html": "<div>\n<style scoped>\n    .dataframe tbody tr th:only-of-type {\n        vertical-align: middle;\n    }\n\n    .dataframe tbody tr th {\n        vertical-align: top;\n    }\n\n    .dataframe thead th {\n        text-align: right;\n    }\n</style>\n<table border=\"1\" class=\"dataframe\">\n  <thead>\n    <tr style=\"text-align: right;\">\n      <th></th>\n      <th>num_iters</th>\n      <th>num_epochs</th>\n      <th>num_test_subjs</th>\n      <th>eval</th>\n      <th>subj_acc</th>\n    </tr>\n  </thead>\n  <tbody>\n    <tr>\n      <th>0</th>\n      <td>50</td>\n      <td>10</td>\n      <td>1</td>\n      <td>0.480625</td>\n      <td>0.380</td>\n    </tr>\n    <tr>\n      <th>1</th>\n      <td>50</td>\n      <td>10</td>\n      <td>5</td>\n      <td>0.453625</td>\n      <td>0.392</td>\n    </tr>\n    <tr>\n      <th>2</th>\n      <td>100</td>\n      <td>10</td>\n      <td>1</td>\n      <td>0.462500</td>\n      <td>0.420</td>\n    </tr>\n    <tr>\n      <th>3</th>\n      <td>100</td>\n      <td>10</td>\n      <td>5</td>\n      <td>0.471750</td>\n      <td>0.416</td>\n    </tr>\n    <tr>\n      <th>4</th>\n      <td>50</td>\n      <td>15</td>\n      <td>1</td>\n      <td>0.422500</td>\n      <td>0.320</td>\n    </tr>\n    <tr>\n      <th>5</th>\n      <td>50</td>\n      <td>15</td>\n      <td>5</td>\n      <td>0.477125</td>\n      <td>0.408</td>\n    </tr>\n    <tr>\n      <th>6</th>\n      <td>100</td>\n      <td>15</td>\n      <td>1</td>\n      <td>0.485000</td>\n      <td>0.510</td>\n    </tr>\n    <tr>\n      <th>7</th>\n      <td>100</td>\n      <td>15</td>\n      <td>5</td>\n      <td>0.480125</td>\n      <td>0.434</td>\n    </tr>\n    <tr>\n      <th>8</th>\n      <td>50</td>\n      <td>20</td>\n      <td>1</td>\n      <td>0.438125</td>\n      <td>0.380</td>\n    </tr>\n    <tr>\n      <th>9</th>\n      <td>50</td>\n      <td>20</td>\n      <td>5</td>\n      <td>0.446625</td>\n      <td>0.436</td>\n    </tr>\n    <tr>\n      <th>10</th>\n      <td>100</td>\n      <td>20</td>\n      <td>1</td>\n      <td>0.471875</td>\n      <td>0.460</td>\n    </tr>\n    <tr>\n      <th>11</th>\n      <td>100</td>\n      <td>20</td>\n      <td>5</td>\n      <td>0.446000</td>\n      <td>0.420</td>\n    </tr>\n    <tr>\n      <th>12</th>\n      <td>50</td>\n      <td>30</td>\n      <td>1</td>\n      <td>0.460625</td>\n      <td>0.320</td>\n    </tr>\n    <tr>\n      <th>13</th>\n      <td>50</td>\n      <td>30</td>\n      <td>5</td>\n      <td>0.453250</td>\n      <td>0.464</td>\n    </tr>\n    <tr>\n      <th>14</th>\n      <td>100</td>\n      <td>30</td>\n      <td>1</td>\n      <td>0.467500</td>\n      <td>0.370</td>\n    </tr>\n    <tr>\n      <th>15</th>\n      <td>100</td>\n      <td>30</td>\n      <td>5</td>\n      <td>0.448625</td>\n      <td>0.418</td>\n    </tr>\n    <tr>\n      <th>16</th>\n      <td>50</td>\n      <td>50</td>\n      <td>1</td>\n      <td>0.440625</td>\n      <td>0.440</td>\n    </tr>\n    <tr>\n      <th>17</th>\n      <td>50</td>\n      <td>50</td>\n      <td>5</td>\n      <td>0.427500</td>\n      <td>0.436</td>\n    </tr>\n    <tr>\n      <th>18</th>\n      <td>100</td>\n      <td>50</td>\n      <td>1</td>\n      <td>0.458750</td>\n      <td>0.390</td>\n    </tr>\n    <tr>\n      <th>19</th>\n      <td>100</td>\n      <td>50</td>\n      <td>5</td>\n      <td>0.414125</td>\n      <td>0.416</td>\n    </tr>\n    <tr>\n      <th>20</th>\n      <td>50</td>\n      <td>100</td>\n      <td>1</td>\n      <td>0.488125</td>\n      <td>0.440</td>\n    </tr>\n    <tr>\n      <th>21</th>\n      <td>50</td>\n      <td>100</td>\n      <td>5</td>\n      <td>0.455000</td>\n      <td>0.436</td>\n    </tr>\n    <tr>\n      <th>22</th>\n      <td>100</td>\n      <td>100</td>\n      <td>1</td>\n      <td>0.444063</td>\n      <td>0.350</td>\n    </tr>\n    <tr>\n      <th>23</th>\n      <td>100</td>\n      <td>100</td>\n      <td>5</td>\n      <td>0.433625</td>\n      <td>0.412</td>\n    </tr>\n  </tbody>\n</table>\n</div>"
     },
     "execution_count": 49,
     "metadata": {},
     "output_type": "execute_result"
    }
   ],
   "source": [
    "res_df = pd.DataFrame(d , columns=[\"num_iters\",\"num_epochs\",\"num_test_subjs\",\"eval\",\"subj_acc\"])\n",
    "res_df"
   ],
   "metadata": {
    "collapsed": false
   }
  },
  {
   "cell_type": "code",
   "execution_count": 55,
   "outputs": [
    {
     "data": {
      "text/plain": "   num_iters  num_epochs  num_test_subjs      eval  subj_acc\n5         50          15               5  0.477125     0.408\n7        100          15               5  0.480125     0.434",
      "text/html": "<div>\n<style scoped>\n    .dataframe tbody tr th:only-of-type {\n        vertical-align: middle;\n    }\n\n    .dataframe tbody tr th {\n        vertical-align: top;\n    }\n\n    .dataframe thead th {\n        text-align: right;\n    }\n</style>\n<table border=\"1\" class=\"dataframe\">\n  <thead>\n    <tr style=\"text-align: right;\">\n      <th></th>\n      <th>num_iters</th>\n      <th>num_epochs</th>\n      <th>num_test_subjs</th>\n      <th>eval</th>\n      <th>subj_acc</th>\n    </tr>\n  </thead>\n  <tbody>\n    <tr>\n      <th>5</th>\n      <td>50</td>\n      <td>15</td>\n      <td>5</td>\n      <td>0.477125</td>\n      <td>0.408</td>\n    </tr>\n    <tr>\n      <th>7</th>\n      <td>100</td>\n      <td>15</td>\n      <td>5</td>\n      <td>0.480125</td>\n      <td>0.434</td>\n    </tr>\n  </tbody>\n</table>\n</div>"
     },
     "execution_count": 55,
     "metadata": {},
     "output_type": "execute_result"
    }
   ],
   "source": [
    "res_df[(res_df.num_epochs == 15) & (res_df.num_test_subjs == 5) ]"
   ],
   "metadata": {
    "collapsed": false
   }
  },
  {
   "cell_type": "code",
   "execution_count": 54,
   "outputs": [
    {
     "data": {
      "text/plain": "<Figure size 360x360 with 1 Axes>",
      "image/png": "[encoded data removed]"
     },
     "metadata": {
      "needs_background": "light"
     },
     "output_type": "display_data"
    },
    {
     "data": {
      "text/plain": "<Figure size 360x360 with 1 Axes>",
      "image/png": "[encoded data removed]"
     },
     "metadata": {
      "needs_background": "light"
     },
     "output_type": "display_data"
    },
    {
     "data": {
      "text/plain": "<Figure size 360x360 with 1 Axes>",
      "image/png": "[encoded data removed]"
     },
     "metadata": {
      "needs_background": "light"
     },
     "output_type": "display_data"
    }
   ],
   "source": [
    "import seaborn as sns\n",
    "import  matplotlib.pyplot as plt\n",
    "sns.catplot(data = res_df, x = 'num_iters', y='subj_acc', kind='box')\n",
    "plt.show()\n",
    "\n",
    "sns.catplot(data = res_df, x = 'num_epochs', y='subj_acc', kind='box')\n",
    "plt.show()\n",
    "\n",
    "sns.catplot(data = res_df, x = 'num_test_subjs', y='subj_acc', kind='box')\n",
    "plt.show()"
   ],
   "metadata": {
    "collapsed": false
   }
  },
  {
   "cell_type": "code",
   "execution_count": 38,
   "outputs": [
    {
     "data": {
      "text/plain": "[[100, 1, 0.481875, 0.43],\n [100, 5, 0.481875, 0.43],\n [100, 10, 0.481875, 0.43],\n [100, 15, 0.481875, 0.43],\n [100, 20, 0.481875, 0.43],\n [100, 1, 0.481875, 0.43],\n [100, 5, 0.481875, 0.43],\n [100, 10, 0.481875, 0.43],\n [100, 15, 0.481875, 0.43],\n [100, 20, 0.481875, 0.43],\n [100, 1, 0.481875, 0.43],\n [100, 5, 0.481875, 0.43],\n [100, 10, 0.481875, 0.43],\n [100, 15, 0.481875, 0.43],\n [100, 20, 0.481875, 0.43],\n [100, 1, 0.481875, 0.43],\n [100, 5, 0.481875, 0.43],\n [100, 10, 0.481875, 0.43],\n [100, 15, 0.481875, 0.43],\n [100, 20, 0.481875, 0.43],\n [100, 1, 0.481875, 0.43],\n [100, 5, 0.481875, 0.43],\n [100, 10, 0.481875, 0.43],\n [100, 15, 0.481875, 0.43],\n [100, 20, 0.481875, 0.43],\n [100, 1, 0.481875, 0.43],\n [100, 5, 0.481875, 0.43],\n [100, 10, 0.481875, 0.43],\n [100, 15, 0.481875, 0.43],\n [100, 20, 0.481875, 0.43]]"
     },
     "execution_count": 38,
     "metadata": {},
     "output_type": "execute_result"
    }
   ],
   "source": [
    "d"
   ],
   "metadata": {
    "collapsed": false
   }
  },
  {
   "cell_type": "code",
   "execution_count": 21,
   "outputs": [
    {
     "name": "stdout",
     "output_type": "stream",
     "text": [
      "8 subjects : \n",
      "0.44244791666666666\n",
      "0.4166666666666667\n"
     ]
    }
   ],
   "source": [
    "print(f\"{n_test_subjs} subjects : \")\n",
    "print(np.mean([res_dict[i]['eval'] for i in range(num_iters)]))\n",
    "print(np.mean([res_dict[i]['subj_level_acc'] for i in range(num_iters)]))"
   ],
   "metadata": {
    "collapsed": false
   }
  },
  {
   "cell_type": "code",
   "execution_count": 14,
   "outputs": [
    {
     "name": "stdout",
     "output_type": "stream",
     "text": [
      "15 subjects : \n",
      "0.44736111362775166\n",
      "0.4444444444444444\n"
     ]
    }
   ],
   "source": [
    "print(f\"{n_test_subjs} subjects : \")\n",
    "print(np.mean([res_dict[i]['eval'] for i in range(num_iters)]))\n",
    "print(np.mean([res_dict[i]['subj_level_acc'] for i in range(num_iters)]))"
   ],
   "metadata": {
    "collapsed": false
   }
  },
  {
   "cell_type": "code",
   "execution_count": 15,
   "outputs": [
    {
     "name": "stdout",
     "output_type": "stream",
     "text": [
      "15 subjects : \n",
      "0.44736111362775166\n",
      "0.4444444444444444\n"
     ]
    }
   ],
   "source": [
    "print(f\"{n_test_subjs} subjects : \")\n",
    "print(np.mean([res_dict[i]['eval'] for i in range(num_iters)]))\n",
    "print(np.mean([res_dict[i]['subj_level_acc'] for i in range(num_iters)]))"
   ],
   "metadata": {
    "collapsed": false
   }
  },
  {
   "cell_type": "code",
   "execution_count": 16,
   "outputs": [
    {
     "name": "stdout",
     "output_type": "stream",
     "text": [
      "0.44736111362775166\n",
      "0.4444444444444444\n"
     ]
    }
   ],
   "source": [
    "print(np.mean([res_dict[i]['eval'] for i in range(num_iters)]))\n",
    "print(np.mean([res_dict[i]['subj_level_acc'] for i in range(num_iters)]))"
   ],
   "metadata": {
    "collapsed": false
   }
  },
  {
   "cell_type": "code",
   "execution_count": 17,
   "outputs": [
    {
     "data": {
      "text/plain": "0.4444444444444444"
     },
     "execution_count": 17,
     "metadata": {},
     "output_type": "execute_result"
    }
   ],
   "source": [
    "accs = [res_dict[i]['subj_level_acc'] for i in range(num_iters)]\n",
    "np.mean(accs)"
   ],
   "metadata": {
    "collapsed": false
   }
  },
  {
   "cell_type": "code",
   "execution_count": 18,
   "outputs": [
    {
     "data": {
      "text/plain": "<AxesSubplot:>"
     },
     "execution_count": 18,
     "metadata": {},
     "output_type": "execute_result"
    },
    {
     "data": {
      "text/plain": "<Figure size 432x288 with 1 Axes>",
      "image/png": "[encoded data removed]"
     },
     "metadata": {
      "needs_background": "light"
     },
     "output_type": "display_data"
    }
   ],
   "source": [
    "pd.Series(accs).plot.box()"
   ],
   "metadata": {
    "collapsed": false
   }
  },
  {
   "cell_type": "code",
   "execution_count": 19,
   "outputs": [
    {
     "data": {
      "text/plain": "[[0.5070113,\n  0.16465992,\n  0.48122215,\n  0.4486994,\n  0.39266095,\n  0.45569283,\n  0.453677,\n  0.51846486,\n  0.4452508,\n  0.39522156,\n  0.39622372,\n  0.31888562,\n  0.51943463,\n  0.4699189,\n  0.5236134,\n  0.3891532,\n  0.46924448,\n  0.4759156,\n  0.4244978,\n  0.46768498,\n  0.3690222,\n  0.52378327,\n  0.29376075,\n  0.48122215,\n  0.44827297,\n  0.45631793,\n  0.44238904,\n  0.39716274,\n  0.50464594,\n  0.50514555,\n  0.4544356,\n  0.39651972],\n [0.29022944,\n  0.4834538,\n  0.45982715,\n  0.41394088,\n  0.3710991,\n  0.3714983,\n  0.42909554,\n  0.44294304,\n  0.43772668,\n  0.43834448,\n  0.38749528,\n  0.39391112,\n  0.42815793,\n  0.25977758,\n  0.45978463,\n  0.34069023,\n  0.3845086,\n  0.43672225,\n  0.3992129,\n  0.4446404,\n  0.45459804,\n  0.38521647,\n  0.4246188,\n  0.3567533,\n  0.40212372,\n  0.4191378,\n  0.3984646,\n  0.4484913,\n  0.454309,\n  0.32566705,\n  0.40597767,\n  0.46851805],\n [0.2826801,\n  0.30107045,\n  0.403914,\n  0.35224962,\n  0.41288137,\n  0.46687198,\n  0.2266157,\n  0.3381206,\n  0.35454595,\n  0.3346986,\n  0.16839445,\n  0.2951103,\n  0.4058677,\n  0.48065034,\n  0.5202276,\n  0.29177105,\n  0.32821336,\n  0.3641464,\n  0.45922253,\n  0.42642522,\n  0.13685635,\n  0.49819824,\n  0.50385374,\n  0.4056515,\n  0.49574593,\n  0.3964137,\n  0.45873654,\n  0.48325843,\n  0.39935964,\n  0.45572308,\n  0.4628353,\n  0.3641464],\n [0.41990942,\n  0.41099444,\n  0.3970545,\n  0.5153355,\n  0.47803172,\n  0.366794,\n  0.52878934,\n  0.44783393,\n  0.46160844,\n  0.46367654,\n  0.4101106,\n  0.47472724,\n  0.48809308,\n  0.473207,\n  0.46505967,\n  0.53171104,\n  0.48591942,\n  0.47962162,\n  0.32618368,\n  0.3544265,\n  0.44694185,\n  0.40239736,\n  0.47472724,\n  0.48809308,\n  0.473207,\n  0.46772552,\n  0.4729234,\n  0.49558076,\n  0.49411964,\n  0.5208483,\n  0.49865156,\n  0.41011062],\n [0.47956595,\n  0.49692693,\n  0.31800023,\n  0.48356575,\n  0.39717567,\n  0.4134399,\n  0.4593123,\n  0.36719412,\n  0.3772143,\n  0.40850267,\n  0.3432356,\n  0.32037252,\n  0.41472644,\n  0.39987463,\n  0.4254524,\n  0.3812989,\n  0.4187559,\n  0.46299112,\n  0.36719412,\n  0.53206027,\n  0.5198852,\n  0.36956286,\n  0.34999788,\n  0.43975168,\n  0.4187559,\n  0.5326503,\n  0.5248319,\n  0.36956286,\n  0.46805027,\n  0.45513886,\n  0.45123506,\n  0.4617387],\n [0.45769298,\n  0.44342476,\n  0.46925852,\n  0.44349825,\n  0.28472716,\n  0.4646088,\n  0.35269105,\n  0.5322312,\n  0.5315718,\n  0.48321393,\n  0.45579532,\n  0.44913632,\n  0.41732383,\n  0.46925852,\n  0.2861094,\n  0.4529837,\n  0.36468783,\n  0.31639823,\n  0.4685877,\n  0.466975,\n  0.44913632,\n  0.44651204,\n  0.51881844,\n  0.46872455,\n  0.28676397,\n  0.4646088,\n  0.3468667,\n  0.46937302,\n  0.40241623,\n  0.4599863,\n  0.35612082,\n  0.5322312],\n [0.4779493,\n  0.48903227,\n  0.47851372,\n  0.51884025,\n  0.4556686,\n  0.5154278,\n  0.4845911,\n  0.47166958,\n  0.47856316,\n  0.5156349,\n  0.50042117,\n  0.5147929,\n  0.48318782,\n  0.4956654,\n  0.4936564,\n  0.5042234,\n  0.4776384,\n  0.5112588,\n  0.4564723,\n  0.46847978,\n  0.46336013,\n  0.48024032,\n  0.45656407,\n  0.46768486,\n  0.47887728,\n  0.48342577,\n  0.5162822,\n  0.5115248,\n  0.4780484,\n  0.5063404,\n  0.43872765,\n  0.51141095],\n [0.12690851,\n  0.46829122,\n  0.4819842,\n  0.495933,\n  0.515267,\n  0.5289979,\n  0.4993296,\n  0.46391684,\n  0.41100135,\n  0.51222557,\n  0.4637119,\n  0.51886845,\n  0.5071986,\n  0.489869,\n  0.4764404,\n  0.515267,\n  0.29806387,\n  0.29271603,\n  0.28063264,\n  0.35241097,\n  0.44301778,\n  0.5146883,\n  0.12449172,\n  0.4659228,\n  0.45882225,\n  0.49775523,\n  0.51590055,\n  0.5300032,\n  0.48014918,\n  0.51222557,\n  0.48554072,\n  0.54414934],\n [0.36462188,\n  0.44823283,\n  0.4490298,\n  0.45074496,\n  0.49666363,\n  0.5005512,\n  0.5073102,\n  0.48419157,\n  0.45074826,\n  0.45968062,\n  0.45962018,\n  0.36535636,\n  0.50859,\n  0.45069927,\n  0.49670136,\n  0.45920777,\n  0.4597732,\n  0.45491162,\n  0.48390415,\n  0.44142225,\n  0.3975893,\n  0.5284514,\n  0.45962018,\n  0.43079484,\n  0.44070342,\n  0.45607772,\n  0.44991574,\n  0.4843507,\n  0.44306603,\n  0.4807303,\n  0.44899103,\n  0.46129346],\n [0.44701985,\n  0.5167688,\n  0.16170603,\n  0.430497,\n  0.37627,\n  0.45562637,\n  0.1769763,\n  0.5847049,\n  0.49836415,\n  0.47481892,\n  0.47265565,\n  0.4927645,\n  0.4116139,\n  0.31660873,\n  0.5167688,\n  0.55233747,\n  0.26778203,\n  0.4132535,\n  0.5829918,\n  0.4963426,\n  0.47358334,\n  0.47265565,\n  0.44701985,\n  0.4138511,\n  0.48662952,\n  0.37627,\n  0.46420315,\n  0.18225628,\n  0.42704827,\n  0.5318453,\n  0.4997007,\n  0.5150703],\n [0.50446755,\n  0.4512835,\n  0.49936888,\n  0.44050854,\n  0.3965049,\n  0.46084532,\n  0.44657466,\n  0.46583274,\n  0.4493218,\n  0.45252228,\n  0.46939257,\n  0.44024268,\n  0.41012967,\n  0.4077365,\n  0.41435897,\n  0.36104882,\n  0.3362722,\n  0.44183376,\n  0.4100369,\n  0.3876884,\n  0.44875935,\n  0.4640389,\n  0.46945134,\n  0.5195597,\n  0.45057973,\n  0.38423592,\n  0.4690026,\n  0.502347,\n  0.391341,\n  0.45980826,\n  0.41720864,\n  0.45018852],\n [0.45561317,\n  0.38969392,\n  0.46210125,\n  0.45957935,\n  0.43412125,\n  0.4860674,\n  0.42111552,\n  0.46552408,\n  0.5257393,\n  0.51587373,\n  0.53071034,\n  0.4348243,\n  0.46210125,\n  0.46139503,\n  0.4384538,\n  0.47730014,\n  0.48963997,\n  0.36003685,\n  0.46222174,\n  0.24974889,\n  0.5310517,\n  0.39822024,\n  0.47218674,\n  0.39268562,\n  0.46312377,\n  0.46139503,\n  0.48702648,\n  0.47809443,\n  0.48963997,\n  0.45496354,\n  0.53204185,\n  0.39920473],\n [0.43462762,\n  0.4863681,\n  0.49936894,\n  0.49657255,\n  0.48949847,\n  0.48818788,\n  0.52286464,\n  0.43200374,\n  0.4863681,\n  0.4693049,\n  0.47180077,\n  0.5071376,\n  0.503786,\n  0.48664543,\n  0.48342463,\n  0.5123103,\n  0.49395338,\n  0.50800234,\n  0.47844985,\n  0.43433154,\n  0.48329294,\n  0.4775361,\n  0.44117042,\n  0.49931818,\n  0.4880595,\n  0.49269608,\n  0.5074492,\n  0.48721892,\n  0.5105242,\n  0.47862113,\n  0.49243018,\n  0.49020445],\n [0.48656347,\n  0.46955204,\n  0.46199593,\n  0.45492968,\n  0.42279944,\n  0.3571825,\n  0.47960612,\n  0.45656806,\n  0.47660014,\n  0.46167848,\n  0.40677625,\n  0.39706331,\n  0.46955204,\n  0.4601925,\n  0.13648397,\n  0.45640454,\n  0.46917844,\n  0.45656806,\n  0.52539414,\n  0.45906886,\n  0.40557736,\n  0.5169229,\n  0.4868639,\n  0.46155322,\n  0.44996572,\n  0.44537905,\n  0.3894364,\n  0.42245585,\n  0.52783364,\n  0.40885106,\n  0.45771822,\n  0.47696665],\n [0.46959153,\n  0.46212322,\n  0.42096958,\n  0.42703703,\n  0.49876323,\n  0.4523592,\n  0.46429455,\n  0.43368265,\n  0.41265228,\n  0.47717616,\n  0.42787468,\n  0.5197739,\n  0.47240245,\n  0.528947,\n  0.42922628,\n  0.49960166,\n  0.43117464,\n  0.30878478,\n  0.42787468,\n  0.4428499,\n  0.26228553,\n  0.46185184,\n  0.46033514,\n  0.4344188,\n  0.47410056,\n  0.4661708,\n  0.43104273,\n  0.46934375,\n  0.45257825,\n  0.4696274,\n  0.4678827,\n  0.4435584]]"
     },
     "execution_count": 19,
     "metadata": {},
     "output_type": "execute_result"
    }
   ],
   "source": [
    "my_list = res_dict[0][\"test_pred\"]\n",
    "n=32\n",
    "c = [my_list[i * n:(i + 1) * n] for i in range((len(my_list) + n - 1) // n )]\n",
    "# pd.DataFrame(c).mean(axis=1)\n",
    "c"
   ],
   "metadata": {
    "collapsed": false
   }
  },
  {
   "cell_type": "code",
   "execution_count": null,
   "outputs": [],
   "source": [
    "res_dict[0]"
   ],
   "metadata": {
    "collapsed": false
   }
  },
  {
   "cell_type": "code",
   "execution_count": null,
   "outputs": [],
   "source": [
    "d = res_dict[0]\n",
    "d\n",
    "# [my_list[i * n:(i + 1) * n] for i in range((len(my_list) + n - 1) // n )]"
   ],
   "metadata": {
    "collapsed": false
   }
  },
  {
   "cell_type": "code",
   "execution_count": null,
   "outputs": [],
   "source": [
    "res_dict[0]"
   ],
   "metadata": {
    "collapsed": false
   }
  },
  {
   "cell_type": "code",
   "execution_count": null,
   "outputs": [],
   "source": [],
   "metadata": {
    "collapsed": false
   }
  }
 ],
 "metadata": {
  "kernelspec": {
   "display_name": "Python 3",
   "language": "python",
   "name": "python3"
  },
  "language_info": {
   "codemirror_mode": {
    "name": "ipython",
    "version": 2
   },
   "file_extension": ".py",
   "mimetype": "text/x-python",
   "name": "python",
   "nbconvert_exporter": "python",
   "pygments_lexer": "ipython2",
   "version": "2.7.6"
  }
 },
 "nbformat": 4,
 "nbformat_minor": 0
}
